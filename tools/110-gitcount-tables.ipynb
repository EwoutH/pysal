{
 "cells": [
  {
   "cell_type": "markdown",
   "metadata": {},
   "source": [
    "## PySAL Change Log Statistics: Table Generation\n",
    "\n",
    "This notebook generates the summary statistics for use in the 6-month releases of PySAL, which is now a meta package. \n",
    "\n",
    "It assumes the subpackages have been git cloned in a directory below the location of this notebook. It also requires network connectivity for some of the reporting.\n",
    "\n",
    "Run this notebook after `100-gitcount.ipynb`\n"
   ]
  },
  {
   "cell_type": "code",
   "execution_count": 24,
   "metadata": {},
   "outputs": [],
   "source": [
    "from __future__ import print_function\n",
    "import os\n",
    "import json\n",
    "import re\n",
    "import sys\n",
    "import pandas\n",
    "import subprocess\n",
    "from subprocess import check_output\n",
    "\n",
    "#import yaml\n",
    "from datetime import datetime, timedelta, time\n",
    "\n",
    "from dateutil.parser import parse\n",
    "import pytz\n",
    "\n",
    "utc=pytz.UTC\n",
    "\n",
    "try:\n",
    "    from urllib import urlopen\n",
    "except:\n",
    "    from urllib.request import urlopen\n",
    "\n",
    "from release_info import release_date, start_date, PYSALVER\n",
    "\n",
    "since = datetime.combine(start_date, time(0,0))\n"
   ]
  },
  {
   "cell_type": "code",
   "execution_count": 25,
   "metadata": {},
   "outputs": [
    {
     "data": {
      "text/plain": [
       "datetime.date(2022, 7, 23)"
      ]
     },
     "execution_count": 25,
     "metadata": {},
     "output_type": "execute_result"
    }
   ],
   "source": [
    "release_date"
   ]
  },
  {
   "cell_type": "code",
   "execution_count": 26,
   "metadata": {},
   "outputs": [],
   "source": [
    "CWD = os.path.abspath(os.path.curdir)"
   ]
  },
  {
   "cell_type": "code",
   "execution_count": 27,
   "metadata": {},
   "outputs": [
    {
     "data": {
      "text/plain": [
       "'/home/jovyan/work/tools'"
      ]
     },
     "execution_count": 27,
     "metadata": {},
     "output_type": "execute_result"
    }
   ],
   "source": [
    "CWD"
   ]
  },
  {
   "cell_type": "code",
   "execution_count": 28,
   "metadata": {},
   "outputs": [],
   "source": [
    "with open('frozen.txt', 'r') as package_list:\n",
    "    packages = package_list.readlines()\n",
    "    packages = dict([package.strip().split(\">=\") for package in packages])"
   ]
  },
  {
   "cell_type": "code",
   "execution_count": 29,
   "metadata": {},
   "outputs": [
    {
     "data": {
      "text/plain": [
       "{'libpysal': '4.6.2',\n",
       " 'access': '1.1.8',\n",
       " 'esda': '2.4.1',\n",
       " 'giddy': '2.3.3',\n",
       " 'inequality': '1.0.0',\n",
       " 'pointpats': '2.2.0',\n",
       " 'segregation': '2.3.1',\n",
       " 'spaghetti': '1.6.6',\n",
       " 'mgwr': '2.1.2',\n",
       " 'momepy': '0.5.3',\n",
       " 'spglm': '1.0.8',\n",
       " 'spint': '1.0.7',\n",
       " 'spreg': '1.2.4',\n",
       " 'spvcm': '0.3.0',\n",
       " 'tobler': '0.8.2',\n",
       " 'mapclassify': '2.4.3',\n",
       " 'splot': '1.1.5.post1',\n",
       " 'spopt': '0.4.1'}"
      ]
     },
     "execution_count": 29,
     "metadata": {},
     "output_type": "execute_result"
    }
   ],
   "source": [
    "packages"
   ]
  },
  {
   "cell_type": "markdown",
   "metadata": {},
   "source": [
    "import pysal\n",
    "packages['pysal'] = pysal.__version__"
   ]
  },
  {
   "cell_type": "code",
   "execution_count": 30,
   "metadata": {},
   "outputs": [],
   "source": [
    "import pickle"
   ]
  },
  {
   "cell_type": "code",
   "execution_count": 31,
   "metadata": {},
   "outputs": [],
   "source": [
    "issues_closed = pickle.load(open(\"issues_closed.p\", 'rb'))\n",
    "pulls_closed = pickle.load(open('pulls_closed.p', 'rb'))"
   ]
  },
  {
   "cell_type": "code",
   "execution_count": 32,
   "metadata": {},
   "outputs": [
    {
     "data": {
      "text/plain": [
       "dict"
      ]
     },
     "execution_count": 32,
     "metadata": {},
     "output_type": "execute_result"
    }
   ],
   "source": [
    "type(issues_closed)"
   ]
  },
  {
   "cell_type": "code",
   "execution_count": 33,
   "metadata": {},
   "outputs": [
    {
     "data": {
      "text/plain": [
       "dict_keys(['libpysal', 'access', 'esda', 'giddy', 'inequality', 'pointpats', 'segregation', 'spaghetti', 'mgwr', 'momepy', 'spglm', 'spint', 'spreg', 'spvcm', 'tobler', 'mapclassify', 'splot', 'spopt', 'pysal'])"
      ]
     },
     "execution_count": 33,
     "metadata": {},
     "output_type": "execute_result"
    }
   ],
   "source": [
    "issues_closed.keys()"
   ]
  },
  {
   "cell_type": "code",
   "execution_count": 34,
   "metadata": {},
   "outputs": [],
   "source": [
    "from release_info import get_pypi_info, get_github_info, clone_masters"
   ]
  },
  {
   "cell_type": "code",
   "execution_count": 35,
   "metadata": {},
   "outputs": [],
   "source": [
    "#github_releases = get_github_info()\n",
    "\n",
    "github_releases = pickle.load(open(\"releases.p\", 'rb'))\n"
   ]
  },
  {
   "cell_type": "code",
   "execution_count": 36,
   "metadata": {},
   "outputs": [],
   "source": [
    "from datetime import datetime"
   ]
  },
  {
   "cell_type": "code",
   "execution_count": 37,
   "metadata": {},
   "outputs": [],
   "source": [
    "#pysal_date = datetime.strptime('2021-07-31T12:00:00Z', '%Y-%m-%dT%H:%M:%SZ')\n",
    "pysal_date = release_date\n",
    "#ISO8601 = \"%Y-%m-%dT%H:%M:%SZ\"\n"
   ]
  },
  {
   "cell_type": "code",
   "execution_count": 38,
   "metadata": {},
   "outputs": [],
   "source": [
    "pysal_rel = {'version': f'v{PYSALVER}',\n",
    "            'release_date': release_date}\n",
    "github_releases['pysal'] = pysal_rel"
   ]
  },
  {
   "cell_type": "code",
   "execution_count": 39,
   "metadata": {},
   "outputs": [
    {
     "data": {
      "text/plain": [
       "{'libpysal': {'version': 'v4.6.2',\n",
       "  'url': 'https://api.github.com/repos/pysal/libpysal/tarball/v4.6.2',\n",
       "  'release_date': datetime.datetime(2022, 3, 3, 17, 30, 4)},\n",
       " 'access': {'version': 'v1.1.8',\n",
       "  'url': 'https://api.github.com/repos/pysal/access/tarball/v1.1.8',\n",
       "  'release_date': datetime.datetime(2022, 6, 4, 20, 15, 41)},\n",
       " 'esda': {'version': 'v2.4.1',\n",
       "  'url': 'https://api.github.com/repos/pysal/esda/tarball/v2.4.1',\n",
       "  'release_date': datetime.datetime(2021, 7, 27, 12, 54, 27)},\n",
       " 'giddy': {'version': 'v2.3.3',\n",
       "  'url': 'https://api.github.com/repos/pysal/giddy/tarball/v2.3.3',\n",
       "  'release_date': datetime.datetime(2020, 6, 10, 4, 59, 45)},\n",
       " 'inequality': {'version': 'v1.0.0',\n",
       "  'url': 'https://api.github.com/repos/pysal/inequality/tarball/v1.0.0',\n",
       "  'release_date': datetime.datetime(2018, 10, 31, 22, 28, 18)},\n",
       " 'pointpats': {'version': 'v2.2.0',\n",
       "  'url': 'https://api.github.com/repos/pysal/pointpats/tarball/v2.2.0',\n",
       "  'release_date': datetime.datetime(2020, 7, 27, 22, 17, 33)},\n",
       " 'segregation': {'version': 'v2.3.1',\n",
       "  'url': 'https://api.github.com/repos/pysal/segregation/tarball/v2.3.1',\n",
       "  'release_date': datetime.datetime(2022, 6, 18, 19, 58, 17)},\n",
       " 'spaghetti': {'version': 'v1.6.6',\n",
       "  'url': 'https://api.github.com/repos/pysal/spaghetti/tarball/v1.6.6',\n",
       "  'release_date': datetime.datetime(2022, 7, 23, 2, 32, 44)},\n",
       " 'mgwr': {'version': 'v2.1.2',\n",
       "  'url': 'https://api.github.com/repos/pysal/mgwr/tarball/v2.1.2',\n",
       "  'release_date': datetime.datetime(2020, 9, 8, 21, 20, 34)},\n",
       " 'momepy': {'version': 'v0.5.3',\n",
       "  'url': 'https://api.github.com/repos/pysal/momepy/tarball/v0.5.3',\n",
       "  'release_date': datetime.datetime(2022, 4, 9, 13, 31, 49)},\n",
       " 'spglm': {'version': 'v1.0.8',\n",
       "  'url': 'https://api.github.com/repos/pysal/spglm/tarball/v1.0.8',\n",
       "  'release_date': datetime.datetime(2020, 9, 8, 20, 34, 8)},\n",
       " 'spint': {'version': 'v1.0.7',\n",
       "  'url': 'https://api.github.com/repos/pysal/spint/tarball/v1.0.7',\n",
       "  'release_date': datetime.datetime(2020, 9, 9, 2, 28, 50)},\n",
       " 'spreg': {'version': 'v1.2.4',\n",
       "  'url': 'https://api.github.com/repos/pysal/spreg/tarball/v1.2.4',\n",
       "  'release_date': datetime.datetime(2021, 6, 29, 19, 21, 48)},\n",
       " 'spvcm': {'version': 'v0.3.0',\n",
       "  'url': 'https://api.github.com/repos/pysal/spvcm/tarball/v0.3.0',\n",
       "  'release_date': datetime.datetime(2020, 2, 2, 19, 42, 39)},\n",
       " 'tobler': {'version': 'v0.8.2',\n",
       "  'url': 'https://api.github.com/repos/pysal/tobler/tarball/v0.8.2',\n",
       "  'release_date': datetime.datetime(2021, 6, 30, 18, 24, 55)},\n",
       " 'mapclassify': {'version': 'v2.4.3',\n",
       "  'url': 'https://api.github.com/repos/pysal/mapclassify/tarball/v2.4.3',\n",
       "  'release_date': datetime.datetime(2021, 7, 27, 3, 6, 32)},\n",
       " 'splot': {'version': 'v1.1.5.post1',\n",
       "  'url': 'https://api.github.com/repos/pysal/splot/tarball/v1.1.5.post1',\n",
       "  'release_date': datetime.datetime(2022, 4, 13, 21, 13, 27)},\n",
       " 'spopt': {'version': 'v0.4.1',\n",
       "  'url': 'https://api.github.com/repos/pysal/spopt/tarball/v0.4.1',\n",
       "  'release_date': datetime.datetime(2022, 6, 13, 15, 7, 3)},\n",
       " 'pysal': {'version': 'v2.7.0rc1', 'release_date': datetime.date(2022, 7, 23)}}"
      ]
     },
     "execution_count": 39,
     "metadata": {},
     "output_type": "execute_result"
    }
   ],
   "source": [
    "github_releases"
   ]
  },
  {
   "cell_type": "code",
   "execution_count": 41,
   "metadata": {},
   "outputs": [
    {
     "name": "stdout",
     "output_type": "stream",
     "text": [
      "libpysal 2022-03-03 17:30:04 14 7 0 0\n",
      "access 2022-06-04 20:15:41 14 9 7 5\n",
      "esda 2021-07-27 12:54:27 6 0 0 0\n",
      "giddy 2020-06-10 04:59:45 2 0 0 0\n",
      "inequality 2018-10-31 22:28:18 1 0 0 0\n",
      "pointpats 2020-07-27 22:17:33 0 0 0 0\n",
      "segregation 2022-06-18 19:58:17 10 10 0 0\n",
      "spaghetti 2022-07-23 02:32:44 13 13 0 0\n",
      "mgwr 2020-09-08 21:20:34 1 0 1 0\n",
      "momepy 2022-04-09 13:31:49 17 9 0 0\n",
      "spglm 2020-09-08 20:34:08 0 0 0 0\n",
      "spint 2020-09-09 02:28:50 0 0 0 0\n",
      "spreg 2021-06-29 19:21:48 10 0 7 0\n",
      "spvcm 2020-02-02 19:42:39 0 0 0 0\n",
      "tobler 2021-06-30 18:24:55 13 0 3 0\n",
      "mapclassify 2021-07-27 03:06:32 9 0 4 0\n",
      "splot 2022-04-13 21:13:27 14 11 10 9\n",
      "spopt 2022-06-13 15:07:03 42 35 0 0\n"
     ]
    }
   ],
   "source": [
    "from datetime import datetime\n",
    "datetime.fromtimestamp(0)\n",
    "ISO8601 = \"%Y-%m-%dT%H:%M:%SZ\"\n",
    "\n",
    "\n",
    "final_pulls = {}\n",
    "final_issues = {}\n",
    "for package in packages:\n",
    "    filtered_issues = []\n",
    "    filtered_pulls = []\n",
    "    released = github_releases[package]['release_date']\n",
    "    package_pulls = pulls_closed[package]\n",
    "    package_issues = issues_closed[package]\n",
    "    for issue in package_issues:\n",
    "        #print(issue['number'], issue['title'], issue['closed_at'])\n",
    "        closed = datetime.strptime(issue['closed_at'], ISO8601)\n",
    "        if closed <= released and closed > since:\n",
    "            filtered_issues.append(issue)\n",
    "    final_issues[package] = filtered_issues\n",
    "    for pull in package_pulls:\n",
    "        #print(pull['number'], pull['title'], pull['closed_at'])\n",
    "        closed = datetime.strptime(pull['closed_at'], ISO8601)\n",
    "        if closed <= released and closed > since:\n",
    "            filtered_pulls.append(pull)\n",
    "    final_pulls[package] = filtered_pulls\n",
    "    print(package, released, len(package_issues), len(filtered_issues), len(package_pulls),\n",
    "         len(filtered_pulls))"
   ]
  },
  {
   "cell_type": "code",
   "execution_count": 42,
   "metadata": {},
   "outputs": [],
   "source": [
    "issue_details = final_issues\n",
    "pull_details = final_pulls"
   ]
  },
  {
   "cell_type": "code",
   "execution_count": 43,
   "metadata": {},
   "outputs": [
    {
     "data": {
      "text/plain": [
       "{'libpysal': '4.6.2',\n",
       " 'access': '1.1.8',\n",
       " 'esda': '2.4.1',\n",
       " 'giddy': '2.3.3',\n",
       " 'inequality': '1.0.0',\n",
       " 'pointpats': '2.2.0',\n",
       " 'segregation': '2.3.1',\n",
       " 'spaghetti': '1.6.6',\n",
       " 'mgwr': '2.1.2',\n",
       " 'momepy': '0.5.3',\n",
       " 'spglm': '1.0.8',\n",
       " 'spint': '1.0.7',\n",
       " 'spreg': '1.2.4',\n",
       " 'spvcm': '0.3.0',\n",
       " 'tobler': '0.8.2',\n",
       " 'mapclassify': '2.4.3',\n",
       " 'splot': '1.1.5.post1',\n",
       " 'spopt': '0.4.1'}"
      ]
     },
     "execution_count": 43,
     "metadata": {},
     "output_type": "execute_result"
    }
   ],
   "source": [
    "packages"
   ]
  },
  {
   "cell_type": "code",
   "execution_count": 44,
   "metadata": {},
   "outputs": [],
   "source": [
    "github_releases['pysal']['release_date'] = release_date"
   ]
  },
  {
   "cell_type": "code",
   "execution_count": 45,
   "metadata": {},
   "outputs": [
    {
     "data": {
      "text/plain": [
       "datetime.datetime(2022, 6, 13, 15, 7, 3)"
      ]
     },
     "execution_count": 45,
     "metadata": {},
     "output_type": "execute_result"
    }
   ],
   "source": [
    "released"
   ]
  },
  {
   "cell_type": "code",
   "execution_count": 46,
   "metadata": {},
   "outputs": [
    {
     "data": {
      "text/plain": [
       "dict_keys(['libpysal', 'access', 'esda', 'giddy', 'inequality', 'pointpats', 'segregation', 'spaghetti', 'mgwr', 'momepy', 'spglm', 'spint', 'spreg', 'spvcm', 'tobler', 'mapclassify', 'splot', 'spopt'])"
      ]
     },
     "execution_count": 46,
     "metadata": {},
     "output_type": "execute_result"
    }
   ],
   "source": [
    "packages.keys()"
   ]
  },
  {
   "cell_type": "code",
   "execution_count": 47,
   "metadata": {},
   "outputs": [],
   "source": [
    "spvcm = packages['spvcm']"
   ]
  },
  {
   "cell_type": "code",
   "execution_count": 60,
   "metadata": {},
   "outputs": [],
   "source": [
    "## skip packages not released since last meta release\n",
    "\n",
    "# handle meta\n",
    "mrd = github_releases['pysal']['release_date']\n",
    "github_releases['pysal']['release_date'] =  datetime.combine(mrd, time(0,0))\n"
   ]
  },
  {
   "cell_type": "code",
   "execution_count": 61,
   "metadata": {},
   "outputs": [
    {
     "name": "stdout",
     "output_type": "stream",
     "text": [
      "new:  libpysal\n",
      "new:  access\n",
      "old: esda\n",
      "old: giddy\n",
      "old: inequality\n",
      "old: pointpats\n",
      "new:  segregation\n",
      "new:  spaghetti\n",
      "old: mgwr\n",
      "new:  momepy\n",
      "old: spglm\n",
      "old: spint\n",
      "old: spreg\n",
      "old: spvcm\n",
      "old: tobler\n",
      "old: mapclassify\n",
      "new:  splot\n",
      "new:  spopt\n",
      "new:  pysal\n"
     ]
    }
   ],
   "source": [
    "for package in github_releases:\n",
    "    if github_releases[package]['release_date']>since:\n",
    "        print(\"new: \",package)\n",
    "    else:\n",
    "        print('old:', package)"
   ]
  },
  {
   "cell_type": "code",
   "execution_count": 59,
   "metadata": {},
   "outputs": [
    {
     "data": {
      "text/plain": [
       "datetime.date(2022, 7, 23)"
      ]
     },
     "execution_count": 59,
     "metadata": {},
     "output_type": "execute_result"
    }
   ],
   "source": [
    "github_releases[package]['release_date']"
   ]
  },
  {
   "cell_type": "code",
   "execution_count": 55,
   "metadata": {},
   "outputs": [
    {
     "data": {
      "text/plain": [
       "datetime.datetime(2022, 2, 1, 0, 0)"
      ]
     },
     "execution_count": 55,
     "metadata": {},
     "output_type": "execute_result"
    }
   ],
   "source": [
    "since"
   ]
  },
  {
   "cell_type": "code",
   "execution_count": 51,
   "metadata": {},
   "outputs": [
    {
     "data": {
      "text/plain": [
       "{'libpysal': {'version': 'v4.6.2',\n",
       "  'url': 'https://api.github.com/repos/pysal/libpysal/tarball/v4.6.2',\n",
       "  'release_date': datetime.datetime(2022, 3, 3, 17, 30, 4)},\n",
       " 'access': {'version': 'v1.1.8',\n",
       "  'url': 'https://api.github.com/repos/pysal/access/tarball/v1.1.8',\n",
       "  'release_date': datetime.datetime(2022, 6, 4, 20, 15, 41)},\n",
       " 'esda': {'version': 'v2.4.1',\n",
       "  'url': 'https://api.github.com/repos/pysal/esda/tarball/v2.4.1',\n",
       "  'release_date': datetime.datetime(2021, 7, 27, 12, 54, 27)},\n",
       " 'giddy': {'version': 'v2.3.3',\n",
       "  'url': 'https://api.github.com/repos/pysal/giddy/tarball/v2.3.3',\n",
       "  'release_date': datetime.datetime(2020, 6, 10, 4, 59, 45)},\n",
       " 'inequality': {'version': 'v1.0.0',\n",
       "  'url': 'https://api.github.com/repos/pysal/inequality/tarball/v1.0.0',\n",
       "  'release_date': datetime.datetime(2018, 10, 31, 22, 28, 18)},\n",
       " 'pointpats': {'version': 'v2.2.0',\n",
       "  'url': 'https://api.github.com/repos/pysal/pointpats/tarball/v2.2.0',\n",
       "  'release_date': datetime.datetime(2020, 7, 27, 22, 17, 33)},\n",
       " 'segregation': {'version': 'v2.3.1',\n",
       "  'url': 'https://api.github.com/repos/pysal/segregation/tarball/v2.3.1',\n",
       "  'release_date': datetime.datetime(2022, 6, 18, 19, 58, 17)},\n",
       " 'spaghetti': {'version': 'v1.6.6',\n",
       "  'url': 'https://api.github.com/repos/pysal/spaghetti/tarball/v1.6.6',\n",
       "  'release_date': datetime.datetime(2022, 7, 23, 2, 32, 44)},\n",
       " 'mgwr': {'version': 'v2.1.2',\n",
       "  'url': 'https://api.github.com/repos/pysal/mgwr/tarball/v2.1.2',\n",
       "  'release_date': datetime.datetime(2020, 9, 8, 21, 20, 34)},\n",
       " 'momepy': {'version': 'v0.5.3',\n",
       "  'url': 'https://api.github.com/repos/pysal/momepy/tarball/v0.5.3',\n",
       "  'release_date': datetime.datetime(2022, 4, 9, 13, 31, 49)},\n",
       " 'spglm': {'version': 'v1.0.8',\n",
       "  'url': 'https://api.github.com/repos/pysal/spglm/tarball/v1.0.8',\n",
       "  'release_date': datetime.datetime(2020, 9, 8, 20, 34, 8)},\n",
       " 'spint': {'version': 'v1.0.7',\n",
       "  'url': 'https://api.github.com/repos/pysal/spint/tarball/v1.0.7',\n",
       "  'release_date': datetime.datetime(2020, 9, 9, 2, 28, 50)},\n",
       " 'spreg': {'version': 'v1.2.4',\n",
       "  'url': 'https://api.github.com/repos/pysal/spreg/tarball/v1.2.4',\n",
       "  'release_date': datetime.datetime(2021, 6, 29, 19, 21, 48)},\n",
       " 'spvcm': {'version': 'v0.3.0',\n",
       "  'url': 'https://api.github.com/repos/pysal/spvcm/tarball/v0.3.0',\n",
       "  'release_date': datetime.datetime(2020, 2, 2, 19, 42, 39)},\n",
       " 'tobler': {'version': 'v0.8.2',\n",
       "  'url': 'https://api.github.com/repos/pysal/tobler/tarball/v0.8.2',\n",
       "  'release_date': datetime.datetime(2021, 6, 30, 18, 24, 55)},\n",
       " 'mapclassify': {'version': 'v2.4.3',\n",
       "  'url': 'https://api.github.com/repos/pysal/mapclassify/tarball/v2.4.3',\n",
       "  'release_date': datetime.datetime(2021, 7, 27, 3, 6, 32)},\n",
       " 'splot': {'version': 'v1.1.5.post1',\n",
       "  'url': 'https://api.github.com/repos/pysal/splot/tarball/v1.1.5.post1',\n",
       "  'release_date': datetime.datetime(2022, 4, 13, 21, 13, 27)},\n",
       " 'spopt': {'version': 'v0.4.1',\n",
       "  'url': 'https://api.github.com/repos/pysal/spopt/tarball/v0.4.1',\n",
       "  'release_date': datetime.datetime(2022, 6, 13, 15, 7, 3)},\n",
       " 'pysal': {'version': 'v2.7.0rc1', 'release_date': datetime.date(2022, 7, 23)}}"
      ]
     },
     "execution_count": 51,
     "metadata": {},
     "output_type": "execute_result"
    }
   ],
   "source": [
    "github_releases"
   ]
  },
  {
   "cell_type": "code",
   "execution_count": null,
   "metadata": {},
   "outputs": [],
   "source": [
    "since_date = '--since=\"{start}\"'.format(start=start_date.strftime(\"%Y-%m-%d\"))\n",
    "since_date\n",
    "                                        "
   ]
  },
  {
   "cell_type": "code",
   "execution_count": null,
   "metadata": {},
   "outputs": [],
   "source": [
    "# commits\n",
    "cmd = ['git', 'log', '--oneline', since_date]\n",
    "\n",
    "activity = {}\n",
    "total_commits = 0\n",
    "tag_dates = {}\n",
    "ncommits_total = 0\n",
    "for subpackage in packages:\n",
    "    released = github_releases[subpackage]['release_date']\n",
    "    tag_date = released.strftime(\"%Y-%m-%d\")\n",
    "    tag_dates[subpackage] = tag_date\n",
    "    print(tag_date)\n",
    "    #tag_date = tag_dates[subpackage]\n",
    "    ncommits = 0\n",
    "    if released > since:\n",
    "        os.chdir(CWD)\n",
    "        os.chdir('tmp/{subpackage}'.format(subpackage=subpackage))\n",
    "        cmd_until = cmd + ['--until=\"{tag_date}\"'.format(tag_date=tag_date)]\n",
    "        ncommits = len(check_output(cmd_until).splitlines())\n",
    "        ncommits_total = len(check_output(cmd).splitlines())\n",
    "    print(subpackage, ncommits_total, ncommits, tag_date)\n",
    "    total_commits += ncommits\n",
    "    activity[subpackage] = ncommits"
   ]
  },
  {
   "cell_type": "code",
   "execution_count": null,
   "metadata": {},
   "outputs": [],
   "source": [
    "activity"
   ]
  },
  {
   "cell_type": "code",
   "execution_count": null,
   "metadata": {},
   "outputs": [],
   "source": []
  },
  {
   "cell_type": "code",
   "execution_count": null,
   "metadata": {},
   "outputs": [],
   "source": [
    "subpackage"
   ]
  },
  {
   "cell_type": "code",
   "execution_count": null,
   "metadata": {},
   "outputs": [],
   "source": [
    "CWD"
   ]
  },
  {
   "cell_type": "code",
   "execution_count": null,
   "metadata": {},
   "outputs": [],
   "source": [
    "# commits\n",
    "cmd = ['git', 'log', '--oneline', since_date]\n",
    "\n",
    "activity = {}\n",
    "total_commits = 0\n",
    "for subpackage in packages:\n",
    "    ncommits = 0\n",
    "    tag_date = tag_dates[subpackage]\n",
    "    released = github_releases[subpackage]['release_date']\n",
    "    if released > since:\n",
    "        os.chdir(CWD)\n",
    "        os.chdir('tmp/{subpackage}'.format(subpackage=subpackage))\n",
    "        cmd_until = cmd + ['--until=\"{tag_date}\"'.format(tag_date=tag_date)]\n",
    "        ncommits = len(check_output(cmd_until).splitlines())\n",
    "        print(ncommits)\n",
    "        ncommits_total = len(check_output(cmd).splitlines())\n",
    "        print(subpackage, ncommits_total, ncommits, tag_date)\n",
    "    total_commits += ncommits\n",
    "    activity[subpackage] = ncommits"
   ]
  },
  {
   "cell_type": "code",
   "execution_count": null,
   "metadata": {},
   "outputs": [],
   "source": [
    "identities = {'Levi John Wolf': ('ljwolf', 'Levi John Wolf'),\n",
    "              'Serge Rey': ('Serge Rey', 'Sergio Rey', 'sjsrey', 'serge'),\n",
    "              'Wei Kang': ('Wei Kang', 'weikang9009'),\n",
    "              'Dani Arribas-Bel': ('Dani Arribas-Bel', 'darribas'),\n",
    "              'Antti Härkönen': ( 'antth', 'Antti Härkönen', 'Antti Härkönen', 'Antth'  ),\n",
    "              'Juan C Duque': ('Juan C Duque', \"Juan Duque\"),\n",
    "              'Renan Xavier Cortes': ('Renan Xavier Cortes', 'renanxcortes', 'Renan Xavier Cortes'   ),\n",
    "              'Taylor Oshan': ('Tayloroshan', 'Taylor Oshan', 'TaylorOshan'),\n",
    "              'Tom Gertin': ('@Tomgertin', 'Tom Gertin', '@tomgertin')\n",
    "}\n",
    "\n",
    "def regularize_identity(string):\n",
    "    string = string.decode()\n",
    "    for name, aliases in identities.items():\n",
    "        for alias in aliases:\n",
    "            if alias in string:\n",
    "                string = string.replace(alias, name)\n",
    "    if len(string.split(' '))>1:\n",
    "        string = string.title()\n",
    "    return string.lstrip('* ')"
   ]
  },
  {
   "cell_type": "code",
   "execution_count": null,
   "metadata": {},
   "outputs": [],
   "source": [
    "author_cmd = ['git', 'log', '--format=* %aN', since_date]"
   ]
  },
  {
   "cell_type": "code",
   "execution_count": null,
   "metadata": {},
   "outputs": [],
   "source": [
    "author_cmd.append('blank')"
   ]
  },
  {
   "cell_type": "code",
   "execution_count": null,
   "metadata": {},
   "outputs": [],
   "source": [
    "author_cmd"
   ]
  },
  {
   "cell_type": "code",
   "execution_count": null,
   "metadata": {},
   "outputs": [],
   "source": [
    "from collections import Counter"
   ]
  },
  {
   "cell_type": "code",
   "execution_count": null,
   "metadata": {},
   "outputs": [],
   "source": [
    "tag_dates"
   ]
  },
  {
   "cell_type": "code",
   "execution_count": null,
   "metadata": {},
   "outputs": [],
   "source": [
    "authors_global = set()\n",
    "authors = {}\n",
    "global_counter = Counter()\n",
    "counters = dict()\n",
    "cmd = ['git', 'log', '--oneline', since_date]\n",
    "total_commits = 0\n",
    "activity = {}\n",
    "for subpackage in packages:\n",
    "    ncommits = 0\n",
    "    released = github_releases[subpackage]['release_date']\n",
    "    if released > since:\n",
    "        os.chdir(CWD)\n",
    "        os.chdir('tmp/{subpackage}'.format(subpackage=subpackage))\n",
    "        ncommits = len(check_output(cmd).splitlines())\n",
    "        print(cmd)\n",
    "        tag_date = tag_dates[subpackage]\n",
    "        tag_date = (datetime.strptime(tag_date, '%Y-%m-%d') + timedelta(days=1)).strftime('%Y-%m-%d')\n",
    "        author_cmd[-1] = '--until=\"{tag_date}\"'.format(tag_date=tag_date)\n",
    "        #cmd_until = cmd + ['--until=\"{tag_date}\"'.format(tag_date=tag_date)]\n",
    "        print(subpackage, author_cmd)\n",
    "\n",
    "\n",
    "        all_authors = check_output(author_cmd).splitlines()\n",
    "        counter = Counter([regularize_identity(author) for author in all_authors])\n",
    "        global_counter += counter\n",
    "        counters.update({subpackage: counter})\n",
    "        unique_authors = sorted(set(all_authors))\n",
    "        authors[subpackage] =  unique_authors\n",
    "        authors_global.update(unique_authors)\n",
    "    total_commits += ncommits\n",
    "    activity[subpackage] = ncommits"
   ]
  },
  {
   "cell_type": "code",
   "execution_count": null,
   "metadata": {},
   "outputs": [],
   "source": [
    "author_cmd"
   ]
  },
  {
   "cell_type": "code",
   "execution_count": null,
   "metadata": {},
   "outputs": [],
   "source": [
    "subpackage"
   ]
  },
  {
   "cell_type": "code",
   "execution_count": null,
   "metadata": {},
   "outputs": [],
   "source": [
    "authors_global"
   ]
  },
  {
   "cell_type": "code",
   "execution_count": null,
   "metadata": {},
   "outputs": [],
   "source": [
    "activity"
   ]
  },
  {
   "cell_type": "code",
   "execution_count": null,
   "metadata": {},
   "outputs": [],
   "source": [
    "def get_tag(title, level=\"##\", as_string=True):\n",
    "    words = title.split()\n",
    "    tag = \"-\".join([word.lower() for word in words])\n",
    "    heading = level+\" \"+title\n",
    "    line = \"\\n\\n<a name=\\\"{}\\\"></a>\".format(tag)\n",
    "    lines = [line]\n",
    "    lines.append(heading)\n",
    "    if as_string:\n",
    "        return \"\\n\".join(lines)\n",
    "    else:\n",
    "        return lines"
   ]
  },
  {
   "cell_type": "code",
   "execution_count": null,
   "metadata": {},
   "outputs": [],
   "source": [
    "subs = issue_details.keys()\n",
    "table = []\n",
    "txt = []\n",
    "lines = get_tag(\"Changes by Package\", as_string=False)\n",
    "\n",
    "for sub in subs:\n",
    "    total= issue_details[sub]\n",
    "    pr = pull_details[sub]\n",
    "    \n",
    "    row = [sub, activity[sub], len(total), len(pr)]\n",
    "    table.append(row)\n",
    "    #line = \"\\n<a name=\\\"{sub}\\\"></a>\".format(sub=sub)\n",
    "    #lines.append(line)\n",
    "    #line = \"### {sub}\".format(sub=sub)\n",
    "    #lines.append(line)\n",
    "    lines.extend(get_tag(sub.lower(), \"###\", as_string=False))\n",
    "    for issue in total:\n",
    "        url = issue['html_url']\n",
    "        title = issue['title']\n",
    "        number = issue['number']\n",
    "        line = \"* [#{number}:]({url}) {title} \".format(title=title,\n",
    "                                                     number=number,\n",
    "                                                     url=url)\n",
    "        lines.append(line)\n",
    "\n"
   ]
  },
  {
   "cell_type": "code",
   "execution_count": null,
   "metadata": {},
   "outputs": [],
   "source": [
    "sub"
   ]
  },
  {
   "cell_type": "code",
   "execution_count": null,
   "metadata": {},
   "outputs": [],
   "source": [
    "os.chdir(CWD)\n",
    "\n",
    "import pandas"
   ]
  },
  {
   "cell_type": "code",
   "execution_count": null,
   "metadata": {},
   "outputs": [],
   "source": [
    "df = pandas.DataFrame(table, columns=['package', 'commits', 'total issues', 'pulls'])"
   ]
  },
  {
   "cell_type": "code",
   "execution_count": null,
   "metadata": {},
   "outputs": [],
   "source": [
    "df.head()"
   ]
  },
  {
   "cell_type": "code",
   "execution_count": null,
   "metadata": {},
   "outputs": [],
   "source": [
    "df.shape"
   ]
  },
  {
   "cell_type": "code",
   "execution_count": null,
   "metadata": {},
   "outputs": [],
   "source": [
    "type(counters)"
   ]
  },
  {
   "cell_type": "code",
   "execution_count": null,
   "metadata": {},
   "outputs": [],
   "source": [
    "df.sort_values(['commits','pulls'], ascending=False)\\\n",
    "  .to_html('./commit_table.html', index=None)"
   ]
  },
  {
   "cell_type": "code",
   "execution_count": null,
   "metadata": {},
   "outputs": [],
   "source": [
    "df.sum()"
   ]
  },
  {
   "cell_type": "code",
   "execution_count": null,
   "metadata": {},
   "outputs": [],
   "source": [
    "contributor_table = pandas.DataFrame.from_dict(counters).fillna(0).astype(int).T"
   ]
  },
  {
   "cell_type": "code",
   "execution_count": null,
   "metadata": {},
   "outputs": [],
   "source": [
    "contributor_table.to_html('./contributor_table.html')"
   ]
  },
  {
   "cell_type": "code",
   "execution_count": null,
   "metadata": {},
   "outputs": [],
   "source": [
    "totals = contributor_table.sum(axis=0).T\n",
    "totals.sort_index().to_frame('commits')"
   ]
  },
  {
   "cell_type": "code",
   "execution_count": null,
   "metadata": {},
   "outputs": [],
   "source": [
    "totals = contributor_table.sum(axis=0).T\n",
    "totals.sort_index().to_frame('commits').to_html('./commits_by_person.html')"
   ]
  },
  {
   "cell_type": "code",
   "execution_count": null,
   "metadata": {},
   "outputs": [],
   "source": [
    "totals"
   ]
  },
  {
   "cell_type": "code",
   "execution_count": null,
   "metadata": {},
   "outputs": [],
   "source": [
    "n_commits = df.commits.sum()\n",
    "n_issues = df['total issues'].sum()\n",
    "n_pulls = df.pulls.sum()"
   ]
  },
  {
   "cell_type": "code",
   "execution_count": null,
   "metadata": {},
   "outputs": [],
   "source": [
    "n_commits"
   ]
  },
  {
   "cell_type": "code",
   "execution_count": null,
   "metadata": {},
   "outputs": [],
   "source": [
    "#Overall, there were 719 commits that closed 240 issues, together with 105 pull requests across 12 packages since our last release on 2017-11-03.\n",
    "#('{0} Here is a really long '\n",
    "#           'sentence with {1}').format(3, 5))\n",
    "line = ('Overall, there were {n_commits} commits that closed {n_issues} issues,'  \n",
    "    ' together with {n_pulls} pull requests since our last release' \n",
    "        ' on {since_date}.\\n'.format(n_commits=n_commits, n_issues=n_issues,\n",
    "        n_pulls=n_pulls, since_date = start_date))"
   ]
  },
  {
   "cell_type": "code",
   "execution_count": null,
   "metadata": {},
   "outputs": [],
   "source": [
    "line"
   ]
  },
  {
   "cell_type": "markdown",
   "metadata": {},
   "source": [
    "## append html files to end of changes.md with tags for toc"
   ]
  },
  {
   "cell_type": "code",
   "execution_count": null,
   "metadata": {},
   "outputs": [],
   "source": [
    "with open('changes.md', 'w') as fout:\n",
    "    fout.write(line)\n",
    "    fout.write(\"\\n\".join(lines))\n",
    "    fout.write(get_tag(\"Contributors\"))\n",
    "    fout.write(\"\\n\\nMany thanks to all of the following individuals who contributed to this release:\\n\\n\")\n",
    "    \n",
    "    \n",
    "    \n",
    "    totals = contributor_table.sum(axis=0).T\n",
    "    contributors = totals.index.values\n",
    "    contributors.sort()\n",
    "    contributors = contributors.tolist() \n",
    "    contributors = [ f'\\n - {contributor}' for contributor in contributors]\n",
    "    fout.write(\"\".join(contributors))\n",
    "    \n"
   ]
  },
  {
   "cell_type": "code",
   "execution_count": null,
   "metadata": {},
   "outputs": [],
   "source": []
  },
  {
   "cell_type": "code",
   "execution_count": null,
   "metadata": {},
   "outputs": [],
   "source": []
  }
 ],
 "metadata": {
  "kernelspec": {
   "display_name": "Python 3 (ipykernel)",
   "language": "python",
   "name": "python3"
  },
  "language_info": {
   "codemirror_mode": {
    "name": "ipython",
    "version": 3
   },
   "file_extension": ".py",
   "mimetype": "text/x-python",
   "name": "python",
   "nbconvert_exporter": "python",
   "pygments_lexer": "ipython3",
   "version": "3.9.12"
  }
 },
 "nbformat": 4,
 "nbformat_minor": 4
}
