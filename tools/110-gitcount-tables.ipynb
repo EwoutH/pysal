{
 "cells": [
  {
   "cell_type": "markdown",
   "metadata": {},
   "source": [
    "## PySAL Change Log Statistics: Table Generation\n",
    "\n",
    "This notebook generates the summary statistics for use in the 6-month releases of PySAL, which is now a meta package. \n",
    "\n",
    "It assumes the subpackages have been git cloned in a directory below the location of this notebook. It also requires network connectivity for some of the reporting.\n",
    "\n",
    "Run this notebook after `100-gitcount.ipynb`\n"
   ]
  },
  {
   "cell_type": "code",
   "execution_count": 102,
   "metadata": {},
   "outputs": [],
   "source": [
    "from __future__ import print_function\n",
    "import os\n",
    "import json\n",
    "import re\n",
    "import sys\n",
    "import pandas\n",
    "import subprocess\n",
    "from subprocess import check_output\n",
    "\n",
    "#import yaml\n",
    "from datetime import datetime, timedelta\n",
    "\n",
    "from dateutil.parser import parse\n",
    "import pytz\n",
    "\n",
    "utc=pytz.UTC\n",
    "\n",
    "try:\n",
    "    from urllib import urlopen\n",
    "except:\n",
    "    from urllib.request import urlopen\n",
    "\n",
    "\n"
   ]
  },
  {
   "cell_type": "code",
   "execution_count": null,
   "metadata": {},
   "outputs": [],
   "source": []
  },
  {
   "cell_type": "code",
   "execution_count": 103,
   "metadata": {},
   "outputs": [],
   "source": [
    "PYSAL_RELEASE = '2022-01-31' # date of this release\n",
    "release_date = datetime.strptime(PYSAL_RELEASE+\" 0:0:0\", \"%Y-%m-%d %H:%M:%S\")"
   ]
  },
  {
   "cell_type": "code",
   "execution_count": 104,
   "metadata": {},
   "outputs": [
    {
     "data": {
      "text/plain": [
       "datetime.datetime(2022, 1, 31, 0, 0)"
      ]
     },
     "execution_count": 104,
     "metadata": {},
     "output_type": "execute_result"
    }
   ],
   "source": [
    "release_date"
   ]
  },
  {
   "cell_type": "code",
   "execution_count": 105,
   "metadata": {},
   "outputs": [],
   "source": [
    "CWD = os.path.abspath(os.path.curdir)"
   ]
  },
  {
   "cell_type": "code",
   "execution_count": 106,
   "metadata": {},
   "outputs": [
    {
     "data": {
      "text/plain": [
       "'/home/serge/Documents/p/pysal/src/pysal/tools'"
      ]
     },
     "execution_count": 106,
     "metadata": {},
     "output_type": "execute_result"
    }
   ],
   "source": [
    "CWD"
   ]
  },
  {
   "cell_type": "code",
   "execution_count": 107,
   "metadata": {},
   "outputs": [
    {
     "data": {
      "text/plain": [
       "datetime.datetime(2021, 7, 31, 0, 0)"
      ]
     },
     "execution_count": 107,
     "metadata": {},
     "output_type": "execute_result"
    }
   ],
   "source": [
    "start_date = '2021-07-31' # date of previous meta release\n",
    "since_date = '--since=\"{start}\"'.format(start=start_date)\n",
    "since_date\n",
    "since = datetime.strptime(start_date+\" 0:0:0\", \"%Y-%m-%d %H:%M:%S\")\n",
    "since"
   ]
  },
  {
   "cell_type": "code",
   "execution_count": 108,
   "metadata": {},
   "outputs": [
    {
     "data": {
      "text/plain": [
       "'--since=\"2021-07-31\"'"
      ]
     },
     "execution_count": 108,
     "metadata": {},
     "output_type": "execute_result"
    }
   ],
   "source": [
    "since_date"
   ]
  },
  {
   "cell_type": "code",
   "execution_count": 109,
   "metadata": {},
   "outputs": [],
   "source": [
    "with open('frozen.txt', 'r') as package_list:\n",
    "    packages = package_list.readlines()\n",
    "    packages = dict([package.strip().split(\">=\") for package in packages])"
   ]
  },
  {
   "cell_type": "code",
   "execution_count": 110,
   "metadata": {},
   "outputs": [
    {
     "data": {
      "text/plain": [
       "{'libpysal': '4.6.0',\n",
       " 'access': '1.1.3',\n",
       " 'esda': '2.4.1',\n",
       " 'giddy': '2.3.3',\n",
       " 'inequality': '1.0.0',\n",
       " 'pointpats': '2.2.0',\n",
       " 'segregation': '2.1.0',\n",
       " 'spaghetti': '1.6.5',\n",
       " 'mgwr': '2.1.2',\n",
       " 'momepy': '0.5.2',\n",
       " 'spglm': '1.0.8',\n",
       " 'spint': '1.0.7',\n",
       " 'spreg': '1.2.4',\n",
       " 'spvcm': '0.3.0',\n",
       " 'tobler': '0.8.2',\n",
       " 'mapclassify': '2.4.3',\n",
       " 'splot': '1.1.4',\n",
       " 'spopt': '0.2.1'}"
      ]
     },
     "execution_count": 110,
     "metadata": {},
     "output_type": "execute_result"
    }
   ],
   "source": [
    "packages"
   ]
  },
  {
   "cell_type": "markdown",
   "metadata": {},
   "source": [
    "import pysal\n",
    "packages['pysal'] = pysal.__version__"
   ]
  },
  {
   "cell_type": "code",
   "execution_count": 111,
   "metadata": {},
   "outputs": [],
   "source": [
    "import pickle"
   ]
  },
  {
   "cell_type": "code",
   "execution_count": 112,
   "metadata": {},
   "outputs": [],
   "source": [
    "issues_closed = pickle.load(open(\"issues_closed.p\", 'rb'))\n",
    "pulls_closed = pickle.load(open('pulls_closed.p', 'rb'))"
   ]
  },
  {
   "cell_type": "code",
   "execution_count": 113,
   "metadata": {},
   "outputs": [
    {
     "data": {
      "text/plain": [
       "dict"
      ]
     },
     "execution_count": 113,
     "metadata": {},
     "output_type": "execute_result"
    }
   ],
   "source": [
    "type(issues_closed)"
   ]
  },
  {
   "cell_type": "code",
   "execution_count": 114,
   "metadata": {},
   "outputs": [
    {
     "data": {
      "text/plain": [
       "dict_keys(['libpysal', 'access', 'esda', 'giddy', 'inequality', 'pointpats', 'segregation', 'spaghetti', 'mgwr', 'momepy', 'spglm', 'spint', 'spreg', 'spvcm', 'tobler', 'mapclassify', 'splot', 'spopt', 'pysal'])"
      ]
     },
     "execution_count": 114,
     "metadata": {},
     "output_type": "execute_result"
    }
   ],
   "source": [
    "issues_closed.keys()"
   ]
  },
  {
   "cell_type": "code",
   "execution_count": 115,
   "metadata": {},
   "outputs": [],
   "source": [
    "from release_info import get_pypi_info, get_github_info, clone_masters"
   ]
  },
  {
   "cell_type": "code",
   "execution_count": 116,
   "metadata": {},
   "outputs": [],
   "source": [
    "#github_releases = get_github_info()\n",
    "\n",
    "github_releases = pickle.load(open(\"releases.p\", 'rb'))\n"
   ]
  },
  {
   "cell_type": "code",
   "execution_count": 117,
   "metadata": {},
   "outputs": [],
   "source": [
    "pypi_releases = get_pypi_info()"
   ]
  },
  {
   "cell_type": "code",
   "execution_count": 118,
   "metadata": {},
   "outputs": [],
   "source": [
    "from datetime import datetime"
   ]
  },
  {
   "cell_type": "code",
   "execution_count": 119,
   "metadata": {},
   "outputs": [],
   "source": [
    "pysal_date = datetime.strptime('2021-07-31T12:00:00Z', '%Y-%m-%dT%H:%M:%SZ')\n",
    "#ISO8601 = \"%Y-%m-%dT%H:%M:%SZ\"\n"
   ]
  },
  {
   "cell_type": "code",
   "execution_count": 120,
   "metadata": {},
   "outputs": [],
   "source": [
    "pysal_rel = {'version': 'v2.5.0',\n",
    "            'release_date': pysal_date}\n",
    "github_releases['pysal'] = pysal_rel"
   ]
  },
  {
   "cell_type": "code",
   "execution_count": 121,
   "metadata": {},
   "outputs": [
    {
     "data": {
      "text/plain": [
       "{'libpysal': {'version': 'v4.6.0',\n",
       "  'url': 'https://api.github.com/repos/pysal/libpysal/tarball/v4.6.0',\n",
       "  'release_date': datetime.datetime(2022, 1, 23, 0, 31, 33)},\n",
       " 'access': {'version': 'V1.1.3',\n",
       "  'url': 'https://api.github.com/repos/pysal/access/tarball/V1.1.3',\n",
       "  'release_date': datetime.datetime(2021, 1, 31, 21, 31, 11)},\n",
       " 'esda': {'version': 'v2.4.1',\n",
       "  'url': 'https://api.github.com/repos/pysal/esda/tarball/v2.4.1',\n",
       "  'release_date': datetime.datetime(2021, 7, 27, 12, 54, 27)},\n",
       " 'giddy': {'version': 'v2.3.3',\n",
       "  'url': 'https://api.github.com/repos/pysal/giddy/tarball/v2.3.3',\n",
       "  'release_date': datetime.datetime(2020, 6, 10, 4, 59, 45)},\n",
       " 'inequality': {'version': 'v1.0.0',\n",
       "  'url': 'https://api.github.com/repos/pysal/inequality/tarball/v1.0.0',\n",
       "  'release_date': datetime.datetime(2018, 10, 31, 22, 28, 18)},\n",
       " 'pointpats': {'version': 'v2.2.0',\n",
       "  'url': 'https://api.github.com/repos/pysal/pointpats/tarball/v2.2.0',\n",
       "  'release_date': datetime.datetime(2020, 7, 27, 22, 17, 33)},\n",
       " 'segregation': {'version': 'v2.1.0',\n",
       "  'url': 'https://api.github.com/repos/pysal/segregation/tarball/v2.1.0',\n",
       "  'release_date': datetime.datetime(2021, 8, 9, 22, 5, 57)},\n",
       " 'spaghetti': {'version': 'v1.6.5',\n",
       "  'url': 'https://api.github.com/repos/pysal/spaghetti/tarball/v1.6.5',\n",
       "  'release_date': datetime.datetime(2022, 1, 7, 18, 17, 58)},\n",
       " 'mgwr': {'version': 'v2.1.2',\n",
       "  'url': 'https://api.github.com/repos/pysal/mgwr/tarball/v2.1.2',\n",
       "  'release_date': datetime.datetime(2020, 9, 8, 21, 20, 34)},\n",
       " 'momepy': {'version': 'v0.5.2',\n",
       "  'url': 'https://api.github.com/repos/pysal/momepy/tarball/v0.5.2',\n",
       "  'release_date': datetime.datetime(2022, 1, 6, 11, 11, 33)},\n",
       " 'spglm': {'version': 'v1.0.8',\n",
       "  'url': 'https://api.github.com/repos/pysal/spglm/tarball/v1.0.8',\n",
       "  'release_date': datetime.datetime(2020, 9, 8, 20, 34, 8)},\n",
       " 'spint': {'version': 'v1.0.7',\n",
       "  'url': 'https://api.github.com/repos/pysal/spint/tarball/v1.0.7',\n",
       "  'release_date': datetime.datetime(2020, 9, 9, 2, 28, 50)},\n",
       " 'spreg': {'version': 'v1.2.4',\n",
       "  'url': 'https://api.github.com/repos/pysal/spreg/tarball/v1.2.4',\n",
       "  'release_date': datetime.datetime(2021, 6, 29, 19, 21, 48)},\n",
       " 'spvcm': {'version': 'v0.3.0',\n",
       "  'url': 'https://api.github.com/repos/pysal/spvcm/tarball/v0.3.0',\n",
       "  'release_date': datetime.datetime(2020, 2, 2, 19, 42, 39)},\n",
       " 'tobler': {'version': 'v0.8.2',\n",
       "  'url': 'https://api.github.com/repos/pysal/tobler/tarball/v0.8.2',\n",
       "  'release_date': datetime.datetime(2021, 6, 30, 18, 24, 55)},\n",
       " 'mapclassify': {'version': 'v2.4.3',\n",
       "  'url': 'https://api.github.com/repos/pysal/mapclassify/tarball/v2.4.3',\n",
       "  'release_date': datetime.datetime(2021, 7, 27, 3, 6, 32)},\n",
       " 'splot': {'version': 'v1.1.4',\n",
       "  'url': 'https://api.github.com/repos/pysal/splot/tarball/v1.1.4',\n",
       "  'release_date': datetime.datetime(2021, 7, 27, 15, 4, 13)},\n",
       " 'spopt': {'version': 'v0.2.1',\n",
       "  'url': 'https://api.github.com/repos/pysal/spopt/tarball/v0.2.1',\n",
       "  'release_date': datetime.datetime(2021, 11, 3, 1, 33, 7)},\n",
       " 'pysal': {'version': 'v2.5.0',\n",
       "  'release_date': datetime.datetime(2021, 7, 31, 12, 0)}}"
      ]
     },
     "execution_count": 121,
     "metadata": {},
     "output_type": "execute_result"
    }
   ],
   "source": [
    "github_releases"
   ]
  },
  {
   "cell_type": "code",
   "execution_count": 122,
   "metadata": {},
   "outputs": [
    {
     "name": "stdout",
     "output_type": "stream",
     "text": [
      "libpysal 2022-01-23 00:31:33 25 25 0 0\n",
      "access 2021-01-31 21:31:11 0 0 0 0\n",
      "esda 2021-07-27 12:54:27 8 0 0 0\n",
      "giddy 2020-06-10 04:59:45 0 0 0 0\n",
      "inequality 2018-10-31 22:28:18 0 0 0 0\n",
      "pointpats 2020-07-27 22:17:33 2 0 1 0\n",
      "segregation 2021-08-09 22:05:57 10 4 0 0\n",
      "spaghetti 2022-01-07 18:17:58 16 12 0 0\n",
      "mgwr 2020-09-08 21:20:34 10 0 4 0\n",
      "momepy 2022-01-06 11:11:33 46 36 0 0\n",
      "spglm 2020-09-08 20:34:08 0 0 0 0\n",
      "spint 2020-09-09 02:28:50 0 0 0 0\n",
      "spreg 2021-06-29 19:21:48 6 0 2 0\n",
      "spvcm 2020-02-02 19:42:39 0 0 0 0\n",
      "tobler 2021-06-30 18:24:55 6 0 4 0\n",
      "mapclassify 2021-07-27 03:06:32 5 0 4 0\n",
      "splot 2021-07-27 15:04:13 7 0 1 0\n",
      "spopt 2021-11-03 01:33:07 27 22 0 0\n"
     ]
    }
   ],
   "source": [
    "from datetime import datetime\n",
    "datetime.fromtimestamp(0)\n",
    "ISO8601 = \"%Y-%m-%dT%H:%M:%SZ\"\n",
    "\n",
    "\n",
    "final_pulls = {}\n",
    "final_issues = {}\n",
    "for package in packages:\n",
    "    filtered_issues = []\n",
    "    filtered_pulls = []\n",
    "    released = github_releases[package]['release_date']\n",
    "    package_pulls = pulls_closed[package]\n",
    "    package_issues = issues_closed[package]\n",
    "    for issue in package_issues:\n",
    "        #print(issue['number'], issue['title'], issue['closed_at'])\n",
    "        closed = datetime.strptime(issue['closed_at'], ISO8601)\n",
    "        if closed <= released and closed > since:\n",
    "            filtered_issues.append(issue)\n",
    "    final_issues[package] = filtered_issues\n",
    "    for pull in package_pulls:\n",
    "        #print(pull['number'], pull['title'], pull['closed_at'])\n",
    "        closed = datetime.strptime(pull['closed_at'], ISO8601)\n",
    "        if closed <= released and closed > since:\n",
    "            filtered_pulls.append(pull)\n",
    "    final_pulls[package] = filtered_pulls\n",
    "    print(package, released, len(package_issues), len(filtered_issues), len(package_pulls),\n",
    "         len(filtered_pulls))"
   ]
  },
  {
   "cell_type": "code",
   "execution_count": 123,
   "metadata": {},
   "outputs": [],
   "source": [
    "issue_details = final_issues\n",
    "pull_details = final_pulls"
   ]
  },
  {
   "cell_type": "code",
   "execution_count": 124,
   "metadata": {},
   "outputs": [
    {
     "data": {
      "text/plain": [
       "{'libpysal': '4.6.0',\n",
       " 'access': '1.1.3',\n",
       " 'esda': '2.4.1',\n",
       " 'giddy': '2.3.3',\n",
       " 'inequality': '1.0.0',\n",
       " 'pointpats': '2.2.0',\n",
       " 'segregation': '2.1.0',\n",
       " 'spaghetti': '1.6.5',\n",
       " 'mgwr': '2.1.2',\n",
       " 'momepy': '0.5.2',\n",
       " 'spglm': '1.0.8',\n",
       " 'spint': '1.0.7',\n",
       " 'spreg': '1.2.4',\n",
       " 'spvcm': '0.3.0',\n",
       " 'tobler': '0.8.2',\n",
       " 'mapclassify': '2.4.3',\n",
       " 'splot': '1.1.4',\n",
       " 'spopt': '0.2.1'}"
      ]
     },
     "execution_count": 124,
     "metadata": {},
     "output_type": "execute_result"
    }
   ],
   "source": [
    "packages"
   ]
  },
  {
   "cell_type": "code",
   "execution_count": 125,
   "metadata": {},
   "outputs": [],
   "source": [
    "github_releases['pysal']['release_date'] = release_date"
   ]
  },
  {
   "cell_type": "code",
   "execution_count": 126,
   "metadata": {},
   "outputs": [
    {
     "data": {
      "text/plain": [
       "datetime.datetime(2021, 11, 3, 1, 33, 7)"
      ]
     },
     "execution_count": 126,
     "metadata": {},
     "output_type": "execute_result"
    }
   ],
   "source": [
    "released"
   ]
  },
  {
   "cell_type": "code",
   "execution_count": 127,
   "metadata": {},
   "outputs": [
    {
     "data": {
      "text/plain": [
       "dict_keys(['libpysal', 'access', 'esda', 'giddy', 'inequality', 'pointpats', 'segregation', 'spaghetti', 'mgwr', 'momepy', 'spglm', 'spint', 'spreg', 'spvcm', 'tobler', 'mapclassify', 'splot', 'spopt'])"
      ]
     },
     "execution_count": 127,
     "metadata": {},
     "output_type": "execute_result"
    }
   ],
   "source": [
    "packages.keys()"
   ]
  },
  {
   "cell_type": "code",
   "execution_count": 128,
   "metadata": {},
   "outputs": [],
   "source": [
    "spvcm = packages['spvcm']"
   ]
  },
  {
   "cell_type": "code",
   "execution_count": 129,
   "metadata": {},
   "outputs": [],
   "source": [
    "## skip packages not released since last meta release"
   ]
  },
  {
   "cell_type": "code",
   "execution_count": 130,
   "metadata": {},
   "outputs": [
    {
     "name": "stdout",
     "output_type": "stream",
     "text": [
      "new:  libpysal\n",
      "old: access\n",
      "old: esda\n",
      "old: giddy\n",
      "old: inequality\n",
      "old: pointpats\n",
      "new:  segregation\n",
      "new:  spaghetti\n",
      "old: mgwr\n",
      "new:  momepy\n",
      "old: spglm\n",
      "old: spint\n",
      "old: spreg\n",
      "old: spvcm\n",
      "old: tobler\n",
      "old: mapclassify\n",
      "old: splot\n",
      "new:  spopt\n",
      "new:  pysal\n"
     ]
    }
   ],
   "source": [
    "for package in github_releases:\n",
    "    if github_releases[package]['release_date']>since:\n",
    "        print(\"new: \",package)\n",
    "    else:\n",
    "        print('old:', package)"
   ]
  },
  {
   "cell_type": "code",
   "execution_count": 131,
   "metadata": {},
   "outputs": [
    {
     "data": {
      "text/plain": [
       "{'libpysal': {'version': 'v4.6.0',\n",
       "  'url': 'https://api.github.com/repos/pysal/libpysal/tarball/v4.6.0',\n",
       "  'release_date': datetime.datetime(2022, 1, 23, 0, 31, 33)},\n",
       " 'access': {'version': 'V1.1.3',\n",
       "  'url': 'https://api.github.com/repos/pysal/access/tarball/V1.1.3',\n",
       "  'release_date': datetime.datetime(2021, 1, 31, 21, 31, 11)},\n",
       " 'esda': {'version': 'v2.4.1',\n",
       "  'url': 'https://api.github.com/repos/pysal/esda/tarball/v2.4.1',\n",
       "  'release_date': datetime.datetime(2021, 7, 27, 12, 54, 27)},\n",
       " 'giddy': {'version': 'v2.3.3',\n",
       "  'url': 'https://api.github.com/repos/pysal/giddy/tarball/v2.3.3',\n",
       "  'release_date': datetime.datetime(2020, 6, 10, 4, 59, 45)},\n",
       " 'inequality': {'version': 'v1.0.0',\n",
       "  'url': 'https://api.github.com/repos/pysal/inequality/tarball/v1.0.0',\n",
       "  'release_date': datetime.datetime(2018, 10, 31, 22, 28, 18)},\n",
       " 'pointpats': {'version': 'v2.2.0',\n",
       "  'url': 'https://api.github.com/repos/pysal/pointpats/tarball/v2.2.0',\n",
       "  'release_date': datetime.datetime(2020, 7, 27, 22, 17, 33)},\n",
       " 'segregation': {'version': 'v2.1.0',\n",
       "  'url': 'https://api.github.com/repos/pysal/segregation/tarball/v2.1.0',\n",
       "  'release_date': datetime.datetime(2021, 8, 9, 22, 5, 57)},\n",
       " 'spaghetti': {'version': 'v1.6.5',\n",
       "  'url': 'https://api.github.com/repos/pysal/spaghetti/tarball/v1.6.5',\n",
       "  'release_date': datetime.datetime(2022, 1, 7, 18, 17, 58)},\n",
       " 'mgwr': {'version': 'v2.1.2',\n",
       "  'url': 'https://api.github.com/repos/pysal/mgwr/tarball/v2.1.2',\n",
       "  'release_date': datetime.datetime(2020, 9, 8, 21, 20, 34)},\n",
       " 'momepy': {'version': 'v0.5.2',\n",
       "  'url': 'https://api.github.com/repos/pysal/momepy/tarball/v0.5.2',\n",
       "  'release_date': datetime.datetime(2022, 1, 6, 11, 11, 33)},\n",
       " 'spglm': {'version': 'v1.0.8',\n",
       "  'url': 'https://api.github.com/repos/pysal/spglm/tarball/v1.0.8',\n",
       "  'release_date': datetime.datetime(2020, 9, 8, 20, 34, 8)},\n",
       " 'spint': {'version': 'v1.0.7',\n",
       "  'url': 'https://api.github.com/repos/pysal/spint/tarball/v1.0.7',\n",
       "  'release_date': datetime.datetime(2020, 9, 9, 2, 28, 50)},\n",
       " 'spreg': {'version': 'v1.2.4',\n",
       "  'url': 'https://api.github.com/repos/pysal/spreg/tarball/v1.2.4',\n",
       "  'release_date': datetime.datetime(2021, 6, 29, 19, 21, 48)},\n",
       " 'spvcm': {'version': 'v0.3.0',\n",
       "  'url': 'https://api.github.com/repos/pysal/spvcm/tarball/v0.3.0',\n",
       "  'release_date': datetime.datetime(2020, 2, 2, 19, 42, 39)},\n",
       " 'tobler': {'version': 'v0.8.2',\n",
       "  'url': 'https://api.github.com/repos/pysal/tobler/tarball/v0.8.2',\n",
       "  'release_date': datetime.datetime(2021, 6, 30, 18, 24, 55)},\n",
       " 'mapclassify': {'version': 'v2.4.3',\n",
       "  'url': 'https://api.github.com/repos/pysal/mapclassify/tarball/v2.4.3',\n",
       "  'release_date': datetime.datetime(2021, 7, 27, 3, 6, 32)},\n",
       " 'splot': {'version': 'v1.1.4',\n",
       "  'url': 'https://api.github.com/repos/pysal/splot/tarball/v1.1.4',\n",
       "  'release_date': datetime.datetime(2021, 7, 27, 15, 4, 13)},\n",
       " 'spopt': {'version': 'v0.2.1',\n",
       "  'url': 'https://api.github.com/repos/pysal/spopt/tarball/v0.2.1',\n",
       "  'release_date': datetime.datetime(2021, 11, 3, 1, 33, 7)},\n",
       " 'pysal': {'version': 'v2.5.0',\n",
       "  'release_date': datetime.datetime(2022, 1, 31, 0, 0)}}"
      ]
     },
     "execution_count": 131,
     "metadata": {},
     "output_type": "execute_result"
    }
   ],
   "source": [
    "github_releases"
   ]
  },
  {
   "cell_type": "code",
   "execution_count": 132,
   "metadata": {},
   "outputs": [
    {
     "name": "stdout",
     "output_type": "stream",
     "text": [
      "2022-01-23\n",
      "libpysal 32 32 2022-01-23\n",
      "2021-01-31\n",
      "access 32 0 2021-01-31\n",
      "2021-07-27\n",
      "esda 32 0 2021-07-27\n",
      "2020-06-10\n",
      "giddy 32 0 2020-06-10\n",
      "2018-10-31\n",
      "inequality 32 0 2018-10-31\n",
      "2020-07-27\n",
      "pointpats 32 0 2020-07-27\n",
      "2021-08-09\n",
      "segregation 17 2 2021-08-09\n",
      "2022-01-07\n",
      "spaghetti 35 35 2022-01-07\n",
      "2020-09-08\n",
      "mgwr 35 0 2020-09-08\n",
      "2022-01-06\n",
      "momepy 35 35 2022-01-06\n",
      "2020-09-08\n",
      "spglm 35 0 2020-09-08\n",
      "2020-09-09\n",
      "spint 35 0 2020-09-09\n",
      "2021-06-29\n",
      "spreg 35 0 2021-06-29\n",
      "2020-02-02\n",
      "spvcm 35 0 2020-02-02\n",
      "2021-06-30\n",
      "tobler 35 0 2021-06-30\n",
      "2021-07-27\n",
      "mapclassify 35 0 2021-07-27\n",
      "2021-07-27\n",
      "splot 35 0 2021-07-27\n",
      "2021-11-03\n",
      "spopt 62 57 2021-11-03\n"
     ]
    }
   ],
   "source": [
    "# commits\n",
    "cmd = ['git', 'log', '--oneline', since_date]\n",
    "\n",
    "activity = {}\n",
    "total_commits = 0\n",
    "tag_dates = {}\n",
    "ncommits_total = 0\n",
    "for subpackage in packages:\n",
    "    released = github_releases[subpackage]['release_date']\n",
    "    tag_date = released.strftime(\"%Y-%m-%d\")\n",
    "    tag_dates[subpackage] = tag_date\n",
    "    print(tag_date)\n",
    "    #tag_date = tag_dates[subpackage]\n",
    "    ncommits = 0\n",
    "    if released > since:\n",
    "        os.chdir(CWD)\n",
    "        os.chdir('tmp/{subpackage}'.format(subpackage=subpackage))\n",
    "        cmd_until = cmd + ['--until=\"{tag_date}\"'.format(tag_date=tag_date)]\n",
    "        ncommits = len(check_output(cmd_until).splitlines())\n",
    "        ncommits_total = len(check_output(cmd).splitlines())\n",
    "    print(subpackage, ncommits_total, ncommits, tag_date)\n",
    "    total_commits += ncommits\n",
    "    activity[subpackage] = ncommits"
   ]
  },
  {
   "cell_type": "code",
   "execution_count": 133,
   "metadata": {},
   "outputs": [
    {
     "data": {
      "text/plain": [
       "{'libpysal': 32,\n",
       " 'access': 0,\n",
       " 'esda': 0,\n",
       " 'giddy': 0,\n",
       " 'inequality': 0,\n",
       " 'pointpats': 0,\n",
       " 'segregation': 2,\n",
       " 'spaghetti': 35,\n",
       " 'mgwr': 0,\n",
       " 'momepy': 35,\n",
       " 'spglm': 0,\n",
       " 'spint': 0,\n",
       " 'spreg': 0,\n",
       " 'spvcm': 0,\n",
       " 'tobler': 0,\n",
       " 'mapclassify': 0,\n",
       " 'splot': 0,\n",
       " 'spopt': 57}"
      ]
     },
     "execution_count": 133,
     "metadata": {},
     "output_type": "execute_result"
    }
   ],
   "source": [
    "activity"
   ]
  },
  {
   "cell_type": "code",
   "execution_count": null,
   "metadata": {},
   "outputs": [],
   "source": []
  },
  {
   "cell_type": "code",
   "execution_count": 134,
   "metadata": {},
   "outputs": [
    {
     "data": {
      "text/plain": [
       "'spopt'"
      ]
     },
     "execution_count": 134,
     "metadata": {},
     "output_type": "execute_result"
    }
   ],
   "source": [
    "subpackage"
   ]
  },
  {
   "cell_type": "code",
   "execution_count": 135,
   "metadata": {},
   "outputs": [
    {
     "data": {
      "text/plain": [
       "'/home/serge/Documents/p/pysal/src/pysal/tools'"
      ]
     },
     "execution_count": 135,
     "metadata": {},
     "output_type": "execute_result"
    }
   ],
   "source": [
    "CWD"
   ]
  },
  {
   "cell_type": "code",
   "execution_count": 136,
   "metadata": {},
   "outputs": [
    {
     "name": "stdout",
     "output_type": "stream",
     "text": [
      "32\n",
      "libpysal 32 32 2022-01-23\n",
      "2\n",
      "segregation 17 2 2021-08-09\n",
      "35\n",
      "spaghetti 35 35 2022-01-07\n",
      "35\n",
      "momepy 35 35 2022-01-06\n",
      "57\n",
      "spopt 62 57 2021-11-03\n"
     ]
    }
   ],
   "source": [
    "# commits\n",
    "cmd = ['git', 'log', '--oneline', since_date]\n",
    "\n",
    "activity = {}\n",
    "total_commits = 0\n",
    "for subpackage in packages:\n",
    "    ncommits = 0\n",
    "    tag_date = tag_dates[subpackage]\n",
    "    released = github_releases[subpackage]['release_date']\n",
    "    if released > since:\n",
    "        os.chdir(CWD)\n",
    "        os.chdir('tmp/{subpackage}'.format(subpackage=subpackage))\n",
    "        cmd_until = cmd + ['--until=\"{tag_date}\"'.format(tag_date=tag_date)]\n",
    "        ncommits = len(check_output(cmd_until).splitlines())\n",
    "        print(ncommits)\n",
    "        ncommits_total = len(check_output(cmd).splitlines())\n",
    "        print(subpackage, ncommits_total, ncommits, tag_date)\n",
    "    total_commits += ncommits\n",
    "    activity[subpackage] = ncommits"
   ]
  },
  {
   "cell_type": "code",
   "execution_count": 137,
   "metadata": {},
   "outputs": [
    {
     "data": {
      "text/plain": [
       "'--since=\"2021-07-31\"'"
      ]
     },
     "execution_count": 137,
     "metadata": {},
     "output_type": "execute_result"
    }
   ],
   "source": [
    "since_date"
   ]
  },
  {
   "cell_type": "code",
   "execution_count": 138,
   "metadata": {},
   "outputs": [
    {
     "data": {
      "text/plain": [
       "['git', 'log', '--oneline', '--since=\"2021-07-31\"', '--until=\"2021-11-03\"']"
      ]
     },
     "execution_count": 138,
     "metadata": {},
     "output_type": "execute_result"
    }
   ],
   "source": [
    "cmd_until"
   ]
  },
  {
   "cell_type": "code",
   "execution_count": 171,
   "metadata": {},
   "outputs": [],
   "source": [
    "identities = {'Levi John Wolf': ('ljwolf', 'Levi John Wolf'),\n",
    "              'Serge Rey': ('Serge Rey', 'Sergio Rey', 'sjsrey', 'serge'),\n",
    "              'Wei Kang': ('Wei Kang', 'weikang9009'),\n",
    "              'Dani Arribas-Bel': ('Dani Arribas-Bel', 'darribas'),\n",
    "              'Antti Härkönen': ( 'antth', 'Antti Härkönen', 'Antti Härkönen', 'Antth'  ),\n",
    "              'Juan C Duque': ('Juan C Duque', \"Juan Duque\"),\n",
    "              'Renan Xavier Cortes': ('Renan Xavier Cortes', 'renanxcortes', 'Renan Xavier Cortes'   ),\n",
    "              'Taylor Oshan': ('Tayloroshan', 'Taylor Oshan', 'TaylorOshan'),\n",
    "              'Germano Barcelos': ('Germano Barcelos')\n",
    "              'Tom Gertin': ('@Tomgertin', 'Tom Gertin', '@tomgertin')\n",
    "}\n",
    "\n",
    "def regularize_identity(string):\n",
    "    string = string.decode()\n",
    "    for name, aliases in identities.items():\n",
    "        for alias in aliases:\n",
    "            if alias in string:\n",
    "                string = string.replace(alias, name)\n",
    "    if len(string.split(' '))>1:\n",
    "        string = string.title()\n",
    "    return string.lstrip('* ')"
   ]
  },
  {
   "cell_type": "code",
   "execution_count": 172,
   "metadata": {},
   "outputs": [],
   "source": [
    "author_cmd = ['git', 'log', '--format=* %aN', since_date]"
   ]
  },
  {
   "cell_type": "code",
   "execution_count": 173,
   "metadata": {},
   "outputs": [],
   "source": [
    "author_cmd.append('blank')"
   ]
  },
  {
   "cell_type": "code",
   "execution_count": 174,
   "metadata": {},
   "outputs": [
    {
     "data": {
      "text/plain": [
       "['git', 'log', '--format=* %aN', '--since=\"2021-07-31\"', 'blank']"
      ]
     },
     "execution_count": 174,
     "metadata": {},
     "output_type": "execute_result"
    }
   ],
   "source": [
    "author_cmd"
   ]
  },
  {
   "cell_type": "code",
   "execution_count": 175,
   "metadata": {},
   "outputs": [],
   "source": [
    "from collections import Counter"
   ]
  },
  {
   "cell_type": "code",
   "execution_count": 176,
   "metadata": {},
   "outputs": [
    {
     "data": {
      "text/plain": [
       "{'libpysal': '2022-01-23',\n",
       " 'access': '2021-01-31',\n",
       " 'esda': '2021-07-27',\n",
       " 'giddy': '2020-06-10',\n",
       " 'inequality': '2018-10-31',\n",
       " 'pointpats': '2020-07-27',\n",
       " 'segregation': '2021-08-09',\n",
       " 'spaghetti': '2022-01-07',\n",
       " 'mgwr': '2020-09-08',\n",
       " 'momepy': '2022-01-06',\n",
       " 'spglm': '2020-09-08',\n",
       " 'spint': '2020-09-09',\n",
       " 'spreg': '2021-06-29',\n",
       " 'spvcm': '2020-02-02',\n",
       " 'tobler': '2021-06-30',\n",
       " 'mapclassify': '2021-07-27',\n",
       " 'splot': '2021-07-27',\n",
       " 'spopt': '2021-11-03'}"
      ]
     },
     "execution_count": 176,
     "metadata": {},
     "output_type": "execute_result"
    }
   ],
   "source": [
    "tag_dates"
   ]
  },
  {
   "cell_type": "code",
   "execution_count": 177,
   "metadata": {},
   "outputs": [
    {
     "name": "stdout",
     "output_type": "stream",
     "text": [
      "['git', 'log', '--oneline', '--since=\"2021-07-31\"']\n",
      "libpysal ['git', 'log', '--format=* %aN', '--since=\"2021-07-31\"', '--until=\"2022-01-24\"']\n",
      "['git', 'log', '--oneline', '--since=\"2021-07-31\"']\n",
      "segregation ['git', 'log', '--format=* %aN', '--since=\"2021-07-31\"', '--until=\"2021-08-10\"']\n",
      "['git', 'log', '--oneline', '--since=\"2021-07-31\"']\n",
      "spaghetti ['git', 'log', '--format=* %aN', '--since=\"2021-07-31\"', '--until=\"2022-01-08\"']\n",
      "['git', 'log', '--oneline', '--since=\"2021-07-31\"']\n",
      "momepy ['git', 'log', '--format=* %aN', '--since=\"2021-07-31\"', '--until=\"2022-01-07\"']\n",
      "['git', 'log', '--oneline', '--since=\"2021-07-31\"']\n",
      "spopt ['git', 'log', '--format=* %aN', '--since=\"2021-07-31\"', '--until=\"2021-11-04\"']\n"
     ]
    }
   ],
   "source": [
    "authors_global = set()\n",
    "authors = {}\n",
    "global_counter = Counter()\n",
    "counters = dict()\n",
    "cmd = ['git', 'log', '--oneline', since_date]\n",
    "total_commits = 0\n",
    "activity = {}\n",
    "for subpackage in packages:\n",
    "    ncommits = 0\n",
    "    released = github_releases[subpackage]['release_date']\n",
    "    if released > since:\n",
    "        os.chdir(CWD)\n",
    "        os.chdir('tmp/{subpackage}'.format(subpackage=subpackage))\n",
    "        ncommits = len(check_output(cmd).splitlines())\n",
    "        print(cmd)\n",
    "        tag_date = tag_dates[subpackage]\n",
    "        tag_date = (datetime.strptime(tag_date, '%Y-%m-%d') + timedelta(days=1)).strftime('%Y-%m-%d')\n",
    "        author_cmd[-1] = '--until=\"{tag_date}\"'.format(tag_date=tag_date)\n",
    "        #cmd_until = cmd + ['--until=\"{tag_date}\"'.format(tag_date=tag_date)]\n",
    "        print(subpackage, author_cmd)\n",
    "\n",
    "\n",
    "        all_authors = check_output(author_cmd).splitlines()\n",
    "        counter = Counter([regularize_identity(author) for author in all_authors])\n",
    "        global_counter += counter\n",
    "        counters.update({subpackage: counter})\n",
    "        unique_authors = sorted(set(all_authors))\n",
    "        authors[subpackage] =  unique_authors\n",
    "        authors_global.update(unique_authors)\n",
    "    total_commits += ncommits\n",
    "    activity[subpackage] = ncommits"
   ]
  },
  {
   "cell_type": "code",
   "execution_count": 178,
   "metadata": {},
   "outputs": [
    {
     "data": {
      "text/plain": [
       "['git',\n",
       " 'log',\n",
       " '--format=* %aN',\n",
       " '--since=\"2021-07-31\"',\n",
       " '--until=\"2021-11-04\"']"
      ]
     },
     "execution_count": 178,
     "metadata": {},
     "output_type": "execute_result"
    }
   ],
   "source": [
    "author_cmd"
   ]
  },
  {
   "cell_type": "code",
   "execution_count": 179,
   "metadata": {},
   "outputs": [
    {
     "data": {
      "text/plain": [
       "'spopt'"
      ]
     },
     "execution_count": 179,
     "metadata": {},
     "output_type": "execute_result"
    }
   ],
   "source": [
    "subpackage"
   ]
  },
  {
   "cell_type": "code",
   "execution_count": 180,
   "metadata": {},
   "outputs": [
    {
     "data": {
      "text/plain": [
       "Counter({'James Gaboardi': 23,\n",
       "         'Gegen07': 23,\n",
       "         'Serge Rey': 2,\n",
       "         'Germano Barcelos': 9})"
      ]
     },
     "execution_count": 180,
     "metadata": {},
     "output_type": "execute_result"
    }
   ],
   "source": [
    "counter"
   ]
  },
  {
   "cell_type": "code",
   "execution_count": 149,
   "metadata": {},
   "outputs": [
    {
     "data": {
      "text/plain": [
       "{b'* Charles Schmidt',\n",
       " b'* Elliott Sales de Andrade',\n",
       " b'* Germano Barcelos',\n",
       " b'* James Gaboardi',\n",
       " b'* Levi John Wolf',\n",
       " b'* Martin Fleischmann',\n",
       " b'* Serge Rey',\n",
       " b'* eli knaap',\n",
       " b'* gegen07',\n",
       " b'* ljwolf'}"
      ]
     },
     "execution_count": 149,
     "metadata": {},
     "output_type": "execute_result"
    }
   ],
   "source": [
    "authors_global"
   ]
  },
  {
   "cell_type": "code",
   "execution_count": 150,
   "metadata": {},
   "outputs": [
    {
     "data": {
      "text/plain": [
       "{'libpysal': 32,\n",
       " 'access': 0,\n",
       " 'esda': 0,\n",
       " 'giddy': 0,\n",
       " 'inequality': 0,\n",
       " 'pointpats': 0,\n",
       " 'segregation': 17,\n",
       " 'spaghetti': 35,\n",
       " 'mgwr': 0,\n",
       " 'momepy': 35,\n",
       " 'spglm': 0,\n",
       " 'spint': 0,\n",
       " 'spreg': 0,\n",
       " 'spvcm': 0,\n",
       " 'tobler': 0,\n",
       " 'mapclassify': 0,\n",
       " 'splot': 0,\n",
       " 'spopt': 62}"
      ]
     },
     "execution_count": 150,
     "metadata": {},
     "output_type": "execute_result"
    }
   ],
   "source": [
    "activity"
   ]
  },
  {
   "cell_type": "code",
   "execution_count": 151,
   "metadata": {},
   "outputs": [
    {
     "data": {
      "text/plain": [
       "{'libpysal': Counter({'Lggermagermano Barceloso Barcelosrmagermano Barceloso Barcgermagermano Barceloso Barceloslosvi Johgermano Barcelos Wolf': 16,\n",
       "          'Charlggermagermano Barceloso Barcelosrmagermano Barceloso Barcgermagermano Barceloso Barcelosloss Schmidt': 1,\n",
       "          'Martigermano Barcelos Flggermagermano Barceloso Barcelosrmagermano Barceloso Barcgermagermano Barceloso Barceloslosischmagermano Barcelosgermano Barcelos': 3,\n",
       "          'Jamggermagermano Barceloso Barcelosrmagermano Barceloso Barcgermagermano Barceloso Barcelosloss Gggermagermano Barceloso Barcelosrmagermano Barceloso Barcgermagermano Barceloso Barceloslosrmagermano Barceloso Barcggermagermano Barceloso Barcelosrmagermano Barceloso Barcgermagermano Barceloso Barcelosloslosaboardi': 7,\n",
       "          'Elliott Salggermagermano Barceloso Barcelosrmagermano Barceloso Barcgermagermano Barceloso Barcelosloss Dggermagermano Barceloso Barcelosrmagermano Barceloso Barcgermagermano Barceloso Barceloslos Agermano Barcelosdradggermagermano Barceloso Barcelosrmagermano Barceloso Barcgermagermano Barceloso Barceloslos': 3,\n",
       "          'Ggermagermano Barceloso Barcelosrmagermano Barceloso Barcgermagermano Barceloso Barceloslosli Kgermano Barcelosaap': 2}),\n",
       " 'segregation': Counter({'Ggermagermano Barceloso Barcelosrmagermano Barceloso Barcgermagermano Barceloso Barceloslosli Kgermano Barcelosaap': 6}),\n",
       " 'spaghetti': Counter({'Jamggermagermano Barceloso Barcelosrmagermano Barceloso Barcgermagermano Barceloso Barcelosloss Gggermagermano Barceloso Barcelosrmagermano Barceloso Barcgermagermano Barceloso Barceloslosrmagermano Barceloso Barcggermagermano Barceloso Barcelosrmagermano Barceloso Barcgermagermano Barceloso Barcelosloslosaboardi': 35}),\n",
       " 'momepy': Counter({'Jamggermagermano Barceloso Barcelosrmagermano Barceloso Barcgermagermano Barceloso Barcelosloss Gggermagermano Barceloso Barcelosrmagermano Barceloso Barcgermagermano Barceloso Barceloslosrmagermano Barceloso Barcggermagermano Barceloso Barcelosrmagermano Barceloso Barcgermagermano Barceloso Barcelosloslosaboardi': 8,\n",
       "          'Martigermano Barcelos Flggermagermano Barceloso Barcelosrmagermano Barceloso Barcgermagermano Barceloso Barceloslosischmagermano Barcelosgermano Barcelos': 27}),\n",
       " 'spopt': Counter({'Jamggermagermano Barceloso Barcelosrmagermano Barceloso Barcgermagermano Barceloso Barcelosloss Gggermagermano Barceloso Barcelosrmagermano Barceloso Barcgermagermano Barceloso Barceloslosrmagermano Barceloso Barcggermagermano Barceloso Barcelosrmagermano Barceloso Barcgermagermano Barceloso Barcelosloslosaboardi': 23,\n",
       "          'Ggermagermano Barceloso Barcelosrmagermano Barceloso Barcgermagermano Barceloso Barceloslosggermagermano Barceloso Barcelosrmagermano Barceloso Barcgermagermano Barceloso Barceloslosggermagermano Barceloso Barcelosrmagermano Barceloso Barcgermagermano Barceloso Barceloslosggermagermano Barceloso Barcelosrmagermano Barceloso Barcgermagermano Barceloso Barceloslosgermano Barcelosgermano Barcelosgermano Barcelos': 23,\n",
       "          'Sggermagermano Barceloso Barcelosrmagermano Barceloso Barcgermagermano Barceloso Barceloslosrggermagermano Barceloso Barcelosrmagermano Barceloso Barcgermagermano Barceloso Barceloslosggermagermano Barceloso Barcelosrmagermano Barceloso Barcgermagermano Barceloso Barceloslos Rggermagermano Barceloso Barcelosrmagermano Barceloso Barcgermagermano Barceloso Barceloslosy': 2,\n",
       "          'Gggermagermano Barceloso Barcelosrmagermano Barceloso Barcgermagermano Barceloso Barceloslosrmagermano Barceloso Barcggermagermano Barceloso Barcelosrmagermano Barceloso Barcgermagermano Barceloso Barcelosloslosggermagermano Barceloso Barcelosrmagermano Barceloso Barcgermagermano Barceloso Barceloslosrmagermano Barceloso Barcggermagermano Barceloso Barcelosrmagermano Barceloso Barcgermagermano Barceloso Barcelosloslos': 9})}"
      ]
     },
     "execution_count": 151,
     "metadata": {},
     "output_type": "execute_result"
    }
   ],
   "source": [
    "counters"
   ]
  },
  {
   "cell_type": "code",
   "execution_count": 152,
   "metadata": {},
   "outputs": [
    {
     "data": {
      "text/plain": [
       "{'libpysal': Counter({'Lggermagermano Barceloso Barcelosrmagermano Barceloso Barcgermagermano Barceloso Barceloslosvi Johgermano Barcelos Wolf': 16,\n",
       "          'Charlggermagermano Barceloso Barcelosrmagermano Barceloso Barcgermagermano Barceloso Barcelosloss Schmidt': 1,\n",
       "          'Martigermano Barcelos Flggermagermano Barceloso Barcelosrmagermano Barceloso Barcgermagermano Barceloso Barceloslosischmagermano Barcelosgermano Barcelos': 3,\n",
       "          'Jamggermagermano Barceloso Barcelosrmagermano Barceloso Barcgermagermano Barceloso Barcelosloss Gggermagermano Barceloso Barcelosrmagermano Barceloso Barcgermagermano Barceloso Barceloslosrmagermano Barceloso Barcggermagermano Barceloso Barcelosrmagermano Barceloso Barcgermagermano Barceloso Barcelosloslosaboardi': 7,\n",
       "          'Elliott Salggermagermano Barceloso Barcelosrmagermano Barceloso Barcgermagermano Barceloso Barcelosloss Dggermagermano Barceloso Barcelosrmagermano Barceloso Barcgermagermano Barceloso Barceloslos Agermano Barcelosdradggermagermano Barceloso Barcelosrmagermano Barceloso Barcgermagermano Barceloso Barceloslos': 3,\n",
       "          'Ggermagermano Barceloso Barcelosrmagermano Barceloso Barcgermagermano Barceloso Barceloslosli Kgermano Barcelosaap': 2}),\n",
       " 'segregation': Counter({'Ggermagermano Barceloso Barcelosrmagermano Barceloso Barcgermagermano Barceloso Barceloslosli Kgermano Barcelosaap': 6}),\n",
       " 'spaghetti': Counter({'Jamggermagermano Barceloso Barcelosrmagermano Barceloso Barcgermagermano Barceloso Barcelosloss Gggermagermano Barceloso Barcelosrmagermano Barceloso Barcgermagermano Barceloso Barceloslosrmagermano Barceloso Barcggermagermano Barceloso Barcelosrmagermano Barceloso Barcgermagermano Barceloso Barcelosloslosaboardi': 35}),\n",
       " 'momepy': Counter({'Jamggermagermano Barceloso Barcelosrmagermano Barceloso Barcgermagermano Barceloso Barcelosloss Gggermagermano Barceloso Barcelosrmagermano Barceloso Barcgermagermano Barceloso Barceloslosrmagermano Barceloso Barcggermagermano Barceloso Barcelosrmagermano Barceloso Barcgermagermano Barceloso Barcelosloslosaboardi': 8,\n",
       "          'Martigermano Barcelos Flggermagermano Barceloso Barcelosrmagermano Barceloso Barcgermagermano Barceloso Barceloslosischmagermano Barcelosgermano Barcelos': 27}),\n",
       " 'spopt': Counter({'Jamggermagermano Barceloso Barcelosrmagermano Barceloso Barcgermagermano Barceloso Barcelosloss Gggermagermano Barceloso Barcelosrmagermano Barceloso Barcgermagermano Barceloso Barceloslosrmagermano Barceloso Barcggermagermano Barceloso Barcelosrmagermano Barceloso Barcgermagermano Barceloso Barcelosloslosaboardi': 23,\n",
       "          'Ggermagermano Barceloso Barcelosrmagermano Barceloso Barcgermagermano Barceloso Barceloslosggermagermano Barceloso Barcelosrmagermano Barceloso Barcgermagermano Barceloso Barceloslosggermagermano Barceloso Barcelosrmagermano Barceloso Barcgermagermano Barceloso Barceloslosggermagermano Barceloso Barcelosrmagermano Barceloso Barcgermagermano Barceloso Barceloslosgermano Barcelosgermano Barcelosgermano Barcelos': 23,\n",
       "          'Sggermagermano Barceloso Barcelosrmagermano Barceloso Barcgermagermano Barceloso Barceloslosrggermagermano Barceloso Barcelosrmagermano Barceloso Barcgermagermano Barceloso Barceloslosggermagermano Barceloso Barcelosrmagermano Barceloso Barcgermagermano Barceloso Barceloslos Rggermagermano Barceloso Barcelosrmagermano Barceloso Barcgermagermano Barceloso Barceloslosy': 2,\n",
       "          'Gggermagermano Barceloso Barcelosrmagermano Barceloso Barcgermagermano Barceloso Barceloslosrmagermano Barceloso Barcggermagermano Barceloso Barcelosrmagermano Barceloso Barcgermagermano Barceloso Barcelosloslosggermagermano Barceloso Barcelosrmagermano Barceloso Barcgermagermano Barceloso Barceloslosrmagermano Barceloso Barcggermagermano Barceloso Barcelosrmagermano Barceloso Barcgermagermano Barceloso Barcelosloslos': 9})}"
      ]
     },
     "execution_count": 152,
     "metadata": {},
     "output_type": "execute_result"
    }
   ],
   "source": [
    "counters"
   ]
  },
  {
   "cell_type": "code",
   "execution_count": 153,
   "metadata": {},
   "outputs": [],
   "source": [
    "def get_tag(title, level=\"##\", as_string=True):\n",
    "    words = title.split()\n",
    "    tag = \"-\".join([word.lower() for word in words])\n",
    "    heading = level+\" \"+title\n",
    "    line = \"\\n\\n<a name=\\\"{}\\\"></a>\".format(tag)\n",
    "    lines = [line]\n",
    "    lines.append(heading)\n",
    "    if as_string:\n",
    "        return \"\\n\".join(lines)\n",
    "    else:\n",
    "        return lines"
   ]
  },
  {
   "cell_type": "code",
   "execution_count": 154,
   "metadata": {},
   "outputs": [],
   "source": [
    "subs = issue_details.keys()\n",
    "table = []\n",
    "txt = []\n",
    "lines = get_tag(\"Changes by Package\", as_string=False)\n",
    "\n",
    "for sub in subs:\n",
    "    total= issue_details[sub]\n",
    "    pr = pull_details[sub]\n",
    "    \n",
    "    row = [sub, activity[sub], len(total), len(pr)]\n",
    "    table.append(row)\n",
    "    #line = \"\\n<a name=\\\"{sub}\\\"></a>\".format(sub=sub)\n",
    "    #lines.append(line)\n",
    "    #line = \"### {sub}\".format(sub=sub)\n",
    "    #lines.append(line)\n",
    "    lines.extend(get_tag(sub.lower(), \"###\", as_string=False))\n",
    "    for issue in total:\n",
    "        url = issue['html_url']\n",
    "        title = issue['title']\n",
    "        number = issue['number']\n",
    "        line = \"* [#{number}:]({url}) {title} \".format(title=title,\n",
    "                                                     number=number,\n",
    "                                                     url=url)\n",
    "        lines.append(line)\n",
    "\n"
   ]
  },
  {
   "cell_type": "code",
   "execution_count": 155,
   "metadata": {},
   "outputs": [
    {
     "data": {
      "text/plain": [
       "'spopt'"
      ]
     },
     "execution_count": 155,
     "metadata": {},
     "output_type": "execute_result"
    }
   ],
   "source": [
    "sub"
   ]
  },
  {
   "cell_type": "code",
   "execution_count": 156,
   "metadata": {},
   "outputs": [],
   "source": [
    "os.chdir(CWD)\n",
    "\n",
    "import pandas"
   ]
  },
  {
   "cell_type": "code",
   "execution_count": 157,
   "metadata": {},
   "outputs": [],
   "source": [
    "df = pandas.DataFrame(table, columns=['package', 'commits', 'total issues', 'pulls'])"
   ]
  },
  {
   "cell_type": "code",
   "execution_count": 158,
   "metadata": {},
   "outputs": [
    {
     "data": {
      "text/html": [
       "<div>\n",
       "<style scoped>\n",
       "    .dataframe tbody tr th:only-of-type {\n",
       "        vertical-align: middle;\n",
       "    }\n",
       "\n",
       "    .dataframe tbody tr th {\n",
       "        vertical-align: top;\n",
       "    }\n",
       "\n",
       "    .dataframe thead th {\n",
       "        text-align: right;\n",
       "    }\n",
       "</style>\n",
       "<table border=\"1\" class=\"dataframe\">\n",
       "  <thead>\n",
       "    <tr style=\"text-align: right;\">\n",
       "      <th></th>\n",
       "      <th>package</th>\n",
       "      <th>commits</th>\n",
       "      <th>total issues</th>\n",
       "      <th>pulls</th>\n",
       "    </tr>\n",
       "  </thead>\n",
       "  <tbody>\n",
       "    <tr>\n",
       "      <th>0</th>\n",
       "      <td>libpysal</td>\n",
       "      <td>32</td>\n",
       "      <td>25</td>\n",
       "      <td>0</td>\n",
       "    </tr>\n",
       "    <tr>\n",
       "      <th>1</th>\n",
       "      <td>access</td>\n",
       "      <td>0</td>\n",
       "      <td>0</td>\n",
       "      <td>0</td>\n",
       "    </tr>\n",
       "    <tr>\n",
       "      <th>2</th>\n",
       "      <td>esda</td>\n",
       "      <td>0</td>\n",
       "      <td>0</td>\n",
       "      <td>0</td>\n",
       "    </tr>\n",
       "    <tr>\n",
       "      <th>3</th>\n",
       "      <td>giddy</td>\n",
       "      <td>0</td>\n",
       "      <td>0</td>\n",
       "      <td>0</td>\n",
       "    </tr>\n",
       "    <tr>\n",
       "      <th>4</th>\n",
       "      <td>inequality</td>\n",
       "      <td>0</td>\n",
       "      <td>0</td>\n",
       "      <td>0</td>\n",
       "    </tr>\n",
       "  </tbody>\n",
       "</table>\n",
       "</div>"
      ],
      "text/plain": [
       "      package  commits  total issues  pulls\n",
       "0    libpysal       32            25      0\n",
       "1      access        0             0      0\n",
       "2        esda        0             0      0\n",
       "3       giddy        0             0      0\n",
       "4  inequality        0             0      0"
      ]
     },
     "execution_count": 158,
     "metadata": {},
     "output_type": "execute_result"
    }
   ],
   "source": [
    "df.head()"
   ]
  },
  {
   "cell_type": "code",
   "execution_count": 159,
   "metadata": {},
   "outputs": [],
   "source": [
    "df.sort_values(['commits','pulls'], ascending=False)\\\n",
    "  .to_html('./commit_table.html', index=None)"
   ]
  },
  {
   "cell_type": "code",
   "execution_count": 160,
   "metadata": {},
   "outputs": [
    {
     "data": {
      "text/plain": [
       "package         libpysalaccessesdagiddyinequalitypointpatssegr...\n",
       "commits                                                       181\n",
       "total issues                                                   99\n",
       "pulls                                                           0\n",
       "dtype: object"
      ]
     },
     "execution_count": 160,
     "metadata": {},
     "output_type": "execute_result"
    }
   ],
   "source": [
    "df.sum()"
   ]
  },
  {
   "cell_type": "code",
   "execution_count": 161,
   "metadata": {},
   "outputs": [],
   "source": [
    "contributor_table = pandas.DataFrame.from_dict(counters).fillna(0).astype(int).T"
   ]
  },
  {
   "cell_type": "code",
   "execution_count": 162,
   "metadata": {},
   "outputs": [],
   "source": [
    "contributor_table.to_html('./contributor_table.html')"
   ]
  },
  {
   "cell_type": "code",
   "execution_count": 163,
   "metadata": {},
   "outputs": [
    {
     "data": {
      "text/html": [
       "<div>\n",
       "<style scoped>\n",
       "    .dataframe tbody tr th:only-of-type {\n",
       "        vertical-align: middle;\n",
       "    }\n",
       "\n",
       "    .dataframe tbody tr th {\n",
       "        vertical-align: top;\n",
       "    }\n",
       "\n",
       "    .dataframe thead th {\n",
       "        text-align: right;\n",
       "    }\n",
       "</style>\n",
       "<table border=\"1\" class=\"dataframe\">\n",
       "  <thead>\n",
       "    <tr style=\"text-align: right;\">\n",
       "      <th></th>\n",
       "      <th>commits</th>\n",
       "    </tr>\n",
       "  </thead>\n",
       "  <tbody>\n",
       "    <tr>\n",
       "      <th>Charlggermagermano Barceloso Barcelosrmagermano Barceloso Barcgermagermano Barceloso Barcelosloss Schmidt</th>\n",
       "      <td>1</td>\n",
       "    </tr>\n",
       "    <tr>\n",
       "      <th>Elliott Salggermagermano Barceloso Barcelosrmagermano Barceloso Barcgermagermano Barceloso Barcelosloss Dggermagermano Barceloso Barcelosrmagermano Barceloso Barcgermagermano Barceloso Barceloslos Agermano Barcelosdradggermagermano Barceloso Barcelosrmagermano Barceloso Barcgermagermano Barceloso Barceloslos</th>\n",
       "      <td>3</td>\n",
       "    </tr>\n",
       "    <tr>\n",
       "      <th>Ggermagermano Barceloso Barcelosrmagermano Barceloso Barcgermagermano Barceloso Barceloslosggermagermano Barceloso Barcelosrmagermano Barceloso Barcgermagermano Barceloso Barceloslosggermagermano Barceloso Barcelosrmagermano Barceloso Barcgermagermano Barceloso Barceloslosggermagermano Barceloso Barcelosrmagermano Barceloso Barcgermagermano Barceloso Barceloslosgermano Barcelosgermano Barcelosgermano Barcelos</th>\n",
       "      <td>23</td>\n",
       "    </tr>\n",
       "    <tr>\n",
       "      <th>Ggermagermano Barceloso Barcelosrmagermano Barceloso Barcgermagermano Barceloso Barceloslosli Kgermano Barcelosaap</th>\n",
       "      <td>8</td>\n",
       "    </tr>\n",
       "    <tr>\n",
       "      <th>Gggermagermano Barceloso Barcelosrmagermano Barceloso Barcgermagermano Barceloso Barceloslosrmagermano Barceloso Barcggermagermano Barceloso Barcelosrmagermano Barceloso Barcgermagermano Barceloso Barcelosloslosggermagermano Barceloso Barcelosrmagermano Barceloso Barcgermagermano Barceloso Barceloslosrmagermano Barceloso Barcggermagermano Barceloso Barcelosrmagermano Barceloso Barcgermagermano Barceloso Barcelosloslos</th>\n",
       "      <td>9</td>\n",
       "    </tr>\n",
       "    <tr>\n",
       "      <th>Jamggermagermano Barceloso Barcelosrmagermano Barceloso Barcgermagermano Barceloso Barcelosloss Gggermagermano Barceloso Barcelosrmagermano Barceloso Barcgermagermano Barceloso Barceloslosrmagermano Barceloso Barcggermagermano Barceloso Barcelosrmagermano Barceloso Barcgermagermano Barceloso Barcelosloslosaboardi</th>\n",
       "      <td>73</td>\n",
       "    </tr>\n",
       "    <tr>\n",
       "      <th>Lggermagermano Barceloso Barcelosrmagermano Barceloso Barcgermagermano Barceloso Barceloslosvi Johgermano Barcelos Wolf</th>\n",
       "      <td>16</td>\n",
       "    </tr>\n",
       "    <tr>\n",
       "      <th>Martigermano Barcelos Flggermagermano Barceloso Barcelosrmagermano Barceloso Barcgermagermano Barceloso Barceloslosischmagermano Barcelosgermano Barcelos</th>\n",
       "      <td>30</td>\n",
       "    </tr>\n",
       "    <tr>\n",
       "      <th>Sggermagermano Barceloso Barcelosrmagermano Barceloso Barcgermagermano Barceloso Barceloslosrggermagermano Barceloso Barcelosrmagermano Barceloso Barcgermagermano Barceloso Barceloslosggermagermano Barceloso Barcelosrmagermano Barceloso Barcgermagermano Barceloso Barceloslos Rggermagermano Barceloso Barcelosrmagermano Barceloso Barcgermagermano Barceloso Barceloslosy</th>\n",
       "      <td>2</td>\n",
       "    </tr>\n",
       "  </tbody>\n",
       "</table>\n",
       "</div>"
      ],
      "text/plain": [
       "                                                    commits\n",
       "Charlggermagermano Barceloso Barcelosrmagermano...        1\n",
       "Elliott Salggermagermano Barceloso Barcelosrmag...        3\n",
       "Ggermagermano Barceloso Barcelosrmagermano Barc...       23\n",
       "Ggermagermano Barceloso Barcelosrmagermano Barc...        8\n",
       "Gggermagermano Barceloso Barcelosrmagermano Bar...        9\n",
       "Jamggermagermano Barceloso Barcelosrmagermano B...       73\n",
       "Lggermagermano Barceloso Barcelosrmagermano Bar...       16\n",
       "Martigermano Barcelos Flggermagermano Barceloso...       30\n",
       "Sggermagermano Barceloso Barcelosrmagermano Bar...        2"
      ]
     },
     "execution_count": 163,
     "metadata": {},
     "output_type": "execute_result"
    }
   ],
   "source": [
    "totals = contributor_table.sum(axis=0).T\n",
    "totals.sort_index().to_frame('commits')"
   ]
  },
  {
   "cell_type": "code",
   "execution_count": 164,
   "metadata": {},
   "outputs": [],
   "source": [
    "totals = contributor_table.sum(axis=0).T\n",
    "totals.sort_index().to_frame('commits').to_html('./commits_by_person.html')"
   ]
  },
  {
   "cell_type": "code",
   "execution_count": 165,
   "metadata": {},
   "outputs": [
    {
     "data": {
      "text/plain": [
       "Lggermagermano Barceloso Barcelosrmagermano Barceloso Barcgermagermano Barceloso Barceloslosvi Johgermano Barcelos Wolf                                                                                                                                                                                                                                                                                                                  16\n",
       "Charlggermagermano Barceloso Barcelosrmagermano Barceloso Barcgermagermano Barceloso Barcelosloss Schmidt                                                                                                                                                                                                                                                                                                                                 1\n",
       "Martigermano Barcelos Flggermagermano Barceloso Barcelosrmagermano Barceloso Barcgermagermano Barceloso Barceloslosischmagermano Barcelosgermano Barcelos                                                                                                                                                                                                                                                                                30\n",
       "Jamggermagermano Barceloso Barcelosrmagermano Barceloso Barcgermagermano Barceloso Barcelosloss Gggermagermano Barceloso Barcelosrmagermano Barceloso Barcgermagermano Barceloso Barceloslosrmagermano Barceloso Barcggermagermano Barceloso Barcelosrmagermano Barceloso Barcgermagermano Barceloso Barcelosloslosaboardi                                                                                                               73\n",
       "Elliott Salggermagermano Barceloso Barcelosrmagermano Barceloso Barcgermagermano Barceloso Barcelosloss Dggermagermano Barceloso Barcelosrmagermano Barceloso Barcgermagermano Barceloso Barceloslos Agermano Barcelosdradggermagermano Barceloso Barcelosrmagermano Barceloso Barcgermagermano Barceloso Barceloslos                                                                                                                     3\n",
       "Ggermagermano Barceloso Barcelosrmagermano Barceloso Barcgermagermano Barceloso Barceloslosli Kgermano Barcelosaap                                                                                                                                                                                                                                                                                                                        8\n",
       "Ggermagermano Barceloso Barcelosrmagermano Barceloso Barcgermagermano Barceloso Barceloslosggermagermano Barceloso Barcelosrmagermano Barceloso Barcgermagermano Barceloso Barceloslosggermagermano Barceloso Barcelosrmagermano Barceloso Barcgermagermano Barceloso Barceloslosggermagermano Barceloso Barcelosrmagermano Barceloso Barcgermagermano Barceloso Barceloslosgermano Barcelosgermano Barcelosgermano Barcelos             23\n",
       "Sggermagermano Barceloso Barcelosrmagermano Barceloso Barcgermagermano Barceloso Barceloslosrggermagermano Barceloso Barcelosrmagermano Barceloso Barcgermagermano Barceloso Barceloslosggermagermano Barceloso Barcelosrmagermano Barceloso Barcgermagermano Barceloso Barceloslos Rggermagermano Barceloso Barcelosrmagermano Barceloso Barcgermagermano Barceloso Barceloslosy                                                         2\n",
       "Gggermagermano Barceloso Barcelosrmagermano Barceloso Barcgermagermano Barceloso Barceloslosrmagermano Barceloso Barcggermagermano Barceloso Barcelosrmagermano Barceloso Barcgermagermano Barceloso Barcelosloslosggermagermano Barceloso Barcelosrmagermano Barceloso Barcgermagermano Barceloso Barceloslosrmagermano Barceloso Barcggermagermano Barceloso Barcelosrmagermano Barceloso Barcgermagermano Barceloso Barcelosloslos     9\n",
       "dtype: int64"
      ]
     },
     "execution_count": 165,
     "metadata": {},
     "output_type": "execute_result"
    }
   ],
   "source": [
    "totals"
   ]
  },
  {
   "cell_type": "code",
   "execution_count": 166,
   "metadata": {},
   "outputs": [],
   "source": [
    "n_commits = df.commits.sum()\n",
    "n_issues = df['total issues'].sum()\n",
    "n_pulls = df.pulls.sum()"
   ]
  },
  {
   "cell_type": "code",
   "execution_count": 167,
   "metadata": {},
   "outputs": [
    {
     "data": {
      "text/plain": [
       "181"
      ]
     },
     "execution_count": 167,
     "metadata": {},
     "output_type": "execute_result"
    }
   ],
   "source": [
    "n_commits"
   ]
  },
  {
   "cell_type": "code",
   "execution_count": 168,
   "metadata": {},
   "outputs": [],
   "source": [
    "#Overall, there were 719 commits that closed 240 issues, together with 105 pull requests across 12 packages since our last release on 2017-11-03.\n",
    "#('{0} Here is a really long '\n",
    "#           'sentence with {1}').format(3, 5))\n",
    "line = ('Overall, there were {n_commits} commits that closed {n_issues} issues,'  \n",
    "    ' together with {n_pulls} pull requests since our last release' \n",
    "        ' on {since_date}.\\n'.format(n_commits=n_commits, n_issues=n_issues,\n",
    "        n_pulls=n_pulls, since_date = start_date))"
   ]
  },
  {
   "cell_type": "code",
   "execution_count": 169,
   "metadata": {},
   "outputs": [
    {
     "data": {
      "text/plain": [
       "'Overall, there were 181 commits that closed 99 issues, together with 0 pull requests since our last release on 2021-07-31.\\n'"
      ]
     },
     "execution_count": 169,
     "metadata": {},
     "output_type": "execute_result"
    }
   ],
   "source": [
    "line"
   ]
  },
  {
   "cell_type": "markdown",
   "metadata": {},
   "source": [
    "## append html files to end of changes.md with tags for toc"
   ]
  },
  {
   "cell_type": "code",
   "execution_count": 170,
   "metadata": {},
   "outputs": [],
   "source": [
    "with open('changes.md', 'w') as fout:\n",
    "    fout.write(line)\n",
    "    fout.write(\"\\n\".join(lines))\n",
    "    fout.write(get_tag(\"Contributors\"))\n",
    "    fout.write(\"\\n\\nMany thanks to all of the following individuals who contributed to this release:\\n\\n\")\n",
    "    \n",
    "    \n",
    "    \n",
    "    totals = contributor_table.sum(axis=0).T\n",
    "    contributors = totals.index.values\n",
    "    contributors.sort()\n",
    "    contributors = contributors.tolist() \n",
    "    contributors = [ f'\\n - {contributor}' for contributor in contributors]\n",
    "    fout.write(\"\".join(contributors))\n",
    "    \n"
   ]
  },
  {
   "cell_type": "code",
   "execution_count": null,
   "metadata": {},
   "outputs": [],
   "source": []
  },
  {
   "cell_type": "code",
   "execution_count": null,
   "metadata": {},
   "outputs": [],
   "source": []
  }
 ],
 "metadata": {
  "kernelspec": {
   "display_name": "Python 3",
   "language": "python",
   "name": "python3"
  },
  "language_info": {
   "codemirror_mode": {
    "name": "ipython",
    "version": 3
   },
   "file_extension": ".py",
   "mimetype": "text/x-python",
   "name": "python",
   "nbconvert_exporter": "python",
   "pygments_lexer": "ipython3",
   "version": "3.8.10"
  }
 },
 "nbformat": 4,
 "nbformat_minor": 4
}
