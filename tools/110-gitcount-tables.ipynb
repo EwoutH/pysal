{
 "cells": [
  {
   "cell_type": "markdown",
   "metadata": {},
   "source": [
    "## PySAL Change Log Statistics: Table Generation\n",
    "\n",
    "This notebook generates the summary statistics for use in the 6-month releases of PySAL, which is now a meta package. \n",
    "\n",
    "It assumes the subpackages have been git cloned in a directory below the location of this notebook. It also requires network connectivity for some of the reporting.\n",
    "\n",
    "Run this notebook after `100-gitcount.ipynb`\n"
   ]
  },
  {
   "cell_type": "code",
   "execution_count": 143,
   "metadata": {},
   "outputs": [],
   "source": [
    "from __future__ import print_function\n",
    "import os\n",
    "import json\n",
    "import re\n",
    "import sys\n",
    "import pandas\n",
    "import subprocess\n",
    "from subprocess import check_output\n",
    "\n",
    "#import yaml\n",
    "from datetime import datetime, timedelta\n",
    "\n",
    "from dateutil.parser import parse\n",
    "import pytz\n",
    "\n",
    "utc=pytz.UTC\n",
    "\n",
    "try:\n",
    "    from urllib import urlopen\n",
    "except:\n",
    "    from urllib.request import urlopen\n",
    "\n",
    "\n"
   ]
  },
  {
   "cell_type": "code",
   "execution_count": null,
   "metadata": {},
   "outputs": [],
   "source": []
  },
  {
   "cell_type": "code",
   "execution_count": 144,
   "metadata": {},
   "outputs": [],
   "source": [
    "PYSAL_RELEASE = '2021-07-31' # date of this release\n",
    "release_date = datetime.strptime(PYSAL_RELEASE+\" 0:0:0\", \"%Y-%m-%d %H:%M:%S\")"
   ]
  },
  {
   "cell_type": "code",
   "execution_count": 145,
   "metadata": {},
   "outputs": [
    {
     "data": {
      "text/plain": [
       "datetime.datetime(2021, 7, 31, 0, 0)"
      ]
     },
     "execution_count": 145,
     "metadata": {},
     "output_type": "execute_result"
    }
   ],
   "source": [
    "release_date"
   ]
  },
  {
   "cell_type": "code",
   "execution_count": 146,
   "metadata": {},
   "outputs": [],
   "source": [
    "CWD = os.path.abspath(os.path.curdir)"
   ]
  },
  {
   "cell_type": "code",
   "execution_count": 147,
   "metadata": {},
   "outputs": [
    {
     "data": {
      "text/plain": [
       "'/Users/serge/Dropbox/p/pysal/src/pysal/tools'"
      ]
     },
     "execution_count": 147,
     "metadata": {},
     "output_type": "execute_result"
    }
   ],
   "source": [
    "CWD"
   ]
  },
  {
   "cell_type": "code",
   "execution_count": 148,
   "metadata": {},
   "outputs": [
    {
     "data": {
      "text/plain": [
       "datetime.datetime(2021, 1, 31, 0, 0)"
      ]
     },
     "execution_count": 148,
     "metadata": {},
     "output_type": "execute_result"
    }
   ],
   "source": [
    "start_date = '2021-01-31' # date of previous meta release\n",
    "since_date = '--since=\"{start}\"'.format(start=start_date)\n",
    "since_date\n",
    "since = datetime.strptime(start_date+\" 0:0:0\", \"%Y-%m-%d %H:%M:%S\")\n",
    "since"
   ]
  },
  {
   "cell_type": "code",
   "execution_count": 149,
   "metadata": {},
   "outputs": [
    {
     "data": {
      "text/plain": [
       "'--since=\"2021-01-31\"'"
      ]
     },
     "execution_count": 149,
     "metadata": {},
     "output_type": "execute_result"
    }
   ],
   "source": [
    "since_date"
   ]
  },
  {
   "cell_type": "code",
   "execution_count": 150,
   "metadata": {},
   "outputs": [],
   "source": [
    "with open('frozen.txt', 'r') as package_list:\n",
    "    packages = package_list.readlines()\n",
    "    packages = dict([package.strip().split(\">=\") for package in packages])"
   ]
  },
  {
   "cell_type": "code",
   "execution_count": 151,
   "metadata": {},
   "outputs": [
    {
     "data": {
      "text/plain": [
       "{'libpysal': '4.5.1.post2',\n",
       " 'access': '1.1.3',\n",
       " 'esda': '2.4.1',\n",
       " 'giddy': '2.3.3',\n",
       " 'inequality': '1.0.0',\n",
       " 'pointpats': '2.2.0',\n",
       " 'segregation': '2.0.0',\n",
       " 'spaghetti': '1.6.2',\n",
       " 'mgwr': '2.1.2',\n",
       " 'spglm': '1.0.8',\n",
       " 'spint': '1.0.7',\n",
       " 'spreg': '1.2.4',\n",
       " 'spvcm': '0.3.0',\n",
       " 'tobler': '0.8.2',\n",
       " 'mapclassify': '2.4.3',\n",
       " 'splot': '1.1.4',\n",
       " 'spopt': '0.1.2'}"
      ]
     },
     "execution_count": 151,
     "metadata": {},
     "output_type": "execute_result"
    }
   ],
   "source": [
    "packages"
   ]
  },
  {
   "cell_type": "code",
   "execution_count": 152,
   "metadata": {},
   "outputs": [],
   "source": [
    "import pysal\n",
    "packages['pysal'] = pysal.__version__"
   ]
  },
  {
   "cell_type": "code",
   "execution_count": 153,
   "metadata": {},
   "outputs": [],
   "source": [
    "import pickle"
   ]
  },
  {
   "cell_type": "code",
   "execution_count": 154,
   "metadata": {},
   "outputs": [],
   "source": [
    "issues_closed = pickle.load(open(\"issues_closed.p\", 'rb'))\n",
    "pulls_closed = pickle.load(open('pulls_closed.p', 'rb'))"
   ]
  },
  {
   "cell_type": "code",
   "execution_count": 155,
   "metadata": {},
   "outputs": [
    {
     "data": {
      "text/plain": [
       "dict"
      ]
     },
     "execution_count": 155,
     "metadata": {},
     "output_type": "execute_result"
    }
   ],
   "source": [
    "type(issues_closed)"
   ]
  },
  {
   "cell_type": "code",
   "execution_count": 156,
   "metadata": {},
   "outputs": [
    {
     "data": {
      "text/plain": [
       "dict_keys(['libpysal', 'access', 'esda', 'giddy', 'inequality', 'pointpats', 'segregation', 'spaghetti', 'mgwr', 'spglm', 'spint', 'spreg', 'spvcm', 'tobler', 'mapclassify', 'splot', 'spopt', 'pysal'])"
      ]
     },
     "execution_count": 156,
     "metadata": {},
     "output_type": "execute_result"
    }
   ],
   "source": [
    "issues_closed.keys()"
   ]
  },
  {
   "cell_type": "code",
   "execution_count": 157,
   "metadata": {},
   "outputs": [],
   "source": [
    "from release_info import get_pypi_info, get_github_info, clone_masters"
   ]
  },
  {
   "cell_type": "code",
   "execution_count": 158,
   "metadata": {},
   "outputs": [],
   "source": [
    "#github_releases = get_github_info()\n",
    "\n",
    "github_releases = pickle.load(open(\"releases.p\", 'rb'))\n"
   ]
  },
  {
   "cell_type": "code",
   "execution_count": 159,
   "metadata": {},
   "outputs": [],
   "source": [
    "pypi_releases = get_pypi_info()"
   ]
  },
  {
   "cell_type": "code",
   "execution_count": 160,
   "metadata": {},
   "outputs": [],
   "source": [
    "from datetime import datetime"
   ]
  },
  {
   "cell_type": "code",
   "execution_count": 161,
   "metadata": {},
   "outputs": [],
   "source": [
    "pysal_date = datetime.strptime('2021-07-31T12:00:00Z', '%Y-%m-%dT%H:%M:%SZ')\n",
    "#ISO8601 = \"%Y-%m-%dT%H:%M:%SZ\"\n"
   ]
  },
  {
   "cell_type": "code",
   "execution_count": 162,
   "metadata": {},
   "outputs": [],
   "source": [
    "pysal_rel = {'version': 'v2.5.0',\n",
    "            'release_date': pysal_date}\n",
    "github_releases['pysal'] = pysal_rel"
   ]
  },
  {
   "cell_type": "code",
   "execution_count": 163,
   "metadata": {},
   "outputs": [
    {
     "data": {
      "text/plain": [
       "{'libpysal': {'version': 'v4.5.1.post2',\n",
       "  'url': 'https://api.github.com/repos/pysal/libpysal/tarball/v4.5.1.post2',\n",
       "  'release_date': datetime.datetime(2021, 6, 27, 18, 29, 51)},\n",
       " 'access': {'version': 'V1.1.3',\n",
       "  'url': 'https://api.github.com/repos/pysal/access/tarball/V1.1.3',\n",
       "  'release_date': datetime.datetime(2021, 1, 31, 21, 31, 11)},\n",
       " 'esda': {'version': 'v2.4.1',\n",
       "  'url': 'https://api.github.com/repos/pysal/esda/tarball/v2.4.1',\n",
       "  'release_date': datetime.datetime(2021, 7, 27, 12, 54, 27)},\n",
       " 'giddy': {'version': 'v2.3.3',\n",
       "  'url': 'https://api.github.com/repos/pysal/giddy/tarball/v2.3.3',\n",
       "  'release_date': datetime.datetime(2020, 6, 10, 4, 59, 45)},\n",
       " 'inequality': {'version': 'v1.0.0',\n",
       "  'url': 'https://api.github.com/repos/pysal/inequality/tarball/v1.0.0',\n",
       "  'release_date': datetime.datetime(2018, 10, 31, 22, 28, 18)},\n",
       " 'pointpats': {'version': 'v2.2.0',\n",
       "  'url': 'https://api.github.com/repos/pysal/pointpats/tarball/v2.2.0',\n",
       "  'release_date': datetime.datetime(2020, 7, 27, 22, 17, 33)},\n",
       " 'segregation': {'version': 'v2.0.0',\n",
       "  'url': 'https://api.github.com/repos/pysal/segregation/tarball/v2.0.0',\n",
       "  'release_date': datetime.datetime(2021, 6, 16, 22, 23, 41)},\n",
       " 'spaghetti': {'version': 'v1.6.2',\n",
       "  'url': 'https://api.github.com/repos/pysal/spaghetti/tarball/v1.6.2',\n",
       "  'release_date': datetime.datetime(2021, 6, 28, 23, 54, 51)},\n",
       " 'mgwr': {'version': 'v2.1.2',\n",
       "  'url': 'https://api.github.com/repos/pysal/mgwr/tarball/v2.1.2',\n",
       "  'release_date': datetime.datetime(2020, 9, 8, 21, 20, 34)},\n",
       " 'spglm': {'version': 'v1.0.8',\n",
       "  'url': 'https://api.github.com/repos/pysal/spglm/tarball/v1.0.8',\n",
       "  'release_date': datetime.datetime(2020, 9, 8, 20, 34, 8)},\n",
       " 'spint': {'version': 'v1.0.7',\n",
       "  'url': 'https://api.github.com/repos/pysal/spint/tarball/v1.0.7',\n",
       "  'release_date': datetime.datetime(2020, 9, 9, 2, 28, 50)},\n",
       " 'spreg': {'version': 'v1.2.4',\n",
       "  'url': 'https://api.github.com/repos/pysal/spreg/tarball/v1.2.4',\n",
       "  'release_date': datetime.datetime(2021, 6, 29, 19, 21, 48)},\n",
       " 'spvcm': {'version': 'v0.3.0',\n",
       "  'url': 'https://api.github.com/repos/pysal/spvcm/tarball/v0.3.0',\n",
       "  'release_date': datetime.datetime(2020, 2, 2, 19, 42, 39)},\n",
       " 'tobler': {'version': 'v0.8.2',\n",
       "  'url': 'https://api.github.com/repos/pysal/tobler/tarball/v0.8.2',\n",
       "  'release_date': datetime.datetime(2021, 6, 30, 18, 24, 55)},\n",
       " 'mapclassify': {'version': 'v2.4.3',\n",
       "  'url': 'https://api.github.com/repos/pysal/mapclassify/tarball/v2.4.3',\n",
       "  'release_date': datetime.datetime(2021, 7, 27, 3, 6, 32)},\n",
       " 'splot': {'version': 'v1.1.4',\n",
       "  'url': 'https://api.github.com/repos/pysal/splot/tarball/v1.1.4',\n",
       "  'release_date': datetime.datetime(2021, 7, 27, 15, 4, 13)},\n",
       " 'spopt': {'version': 'v0.1.2',\n",
       "  'url': 'https://api.github.com/repos/pysal/spopt/tarball/v0.1.2',\n",
       "  'release_date': datetime.datetime(2021, 6, 28, 23, 21, 33)},\n",
       " 'pysal': {'version': 'v2.5.0',\n",
       "  'release_date': datetime.datetime(2021, 7, 31, 12, 0)}}"
      ]
     },
     "execution_count": 163,
     "metadata": {},
     "output_type": "execute_result"
    }
   ],
   "source": [
    "github_releases"
   ]
  },
  {
   "cell_type": "code",
   "execution_count": 164,
   "metadata": {},
   "outputs": [
    {
     "name": "stdout",
     "output_type": "stream",
     "text": [
      "libpysal 2021-06-27 18:29:51 32 28 0 0\n",
      "access 2021-01-31 21:31:11 0 0 0 0\n",
      "esda 2021-07-27 12:54:27 20 20 0 0\n",
      "giddy 2020-06-10 04:59:45 0 0 0 0\n",
      "inequality 2018-10-31 22:28:18 0 0 0 0\n",
      "pointpats 2020-07-27 22:17:33 6 0 1 0\n",
      "segregation 2021-06-16 22:23:41 20 10 0 0\n",
      "spaghetti 2021-06-28 23:54:51 60 55 0 0\n",
      "mgwr 2020-09-08 21:20:34 11 0 1 0\n",
      "spglm 2020-09-08 20:34:08 0 0 0 0\n",
      "spint 2020-09-09 02:28:50 2 0 0 0\n",
      "spreg 2021-06-29 19:21:48 12 10 5 3\n",
      "spvcm 2020-02-02 19:42:39 0 0 0 0\n",
      "tobler 2021-06-30 18:24:55 9 9 6 6\n",
      "mapclassify 2021-07-27 03:06:32 6 6 2 2\n",
      "splot 2021-07-27 15:04:13 10 9 4 3\n",
      "spopt 2021-06-28 23:21:33 45 39 19 19\n",
      "pysal 2021-07-31 12:00:00 4 4 0 0\n"
     ]
    }
   ],
   "source": [
    "from datetime import datetime\n",
    "datetime.fromtimestamp(0)\n",
    "ISO8601 = \"%Y-%m-%dT%H:%M:%SZ\"\n",
    "\n",
    "\n",
    "final_pulls = {}\n",
    "final_issues = {}\n",
    "for package in packages:\n",
    "    filtered_issues = []\n",
    "    filtered_pulls = []\n",
    "    released = github_releases[package]['release_date']\n",
    "    package_pulls = pulls_closed[package]\n",
    "    package_issues = issues_closed[package]\n",
    "    for issue in package_issues:\n",
    "        #print(issue['number'], issue['title'], issue['closed_at'])\n",
    "        closed = datetime.strptime(issue['closed_at'], ISO8601)\n",
    "        if closed <= released and closed > since:\n",
    "            filtered_issues.append(issue)\n",
    "    final_issues[package] = filtered_issues\n",
    "    for pull in package_pulls:\n",
    "        #print(pull['number'], pull['title'], pull['closed_at'])\n",
    "        closed = datetime.strptime(pull['closed_at'], ISO8601)\n",
    "        if closed <= released and closed > since:\n",
    "            filtered_pulls.append(pull)\n",
    "    final_pulls[package] = filtered_pulls\n",
    "    print(package, released, len(package_issues), len(filtered_issues), len(package_pulls),\n",
    "         len(filtered_pulls))"
   ]
  },
  {
   "cell_type": "code",
   "execution_count": 165,
   "metadata": {},
   "outputs": [],
   "source": [
    "issue_details = final_issues\n",
    "pull_details = final_pulls"
   ]
  },
  {
   "cell_type": "code",
   "execution_count": 166,
   "metadata": {},
   "outputs": [
    {
     "data": {
      "text/plain": [
       "{'libpysal': '4.5.1.post2',\n",
       " 'access': '1.1.3',\n",
       " 'esda': '2.4.1',\n",
       " 'giddy': '2.3.3',\n",
       " 'inequality': '1.0.0',\n",
       " 'pointpats': '2.2.0',\n",
       " 'segregation': '2.0.0',\n",
       " 'spaghetti': '1.6.2',\n",
       " 'mgwr': '2.1.2',\n",
       " 'spglm': '1.0.8',\n",
       " 'spint': '1.0.7',\n",
       " 'spreg': '1.2.4',\n",
       " 'spvcm': '0.3.0',\n",
       " 'tobler': '0.8.2',\n",
       " 'mapclassify': '2.4.3',\n",
       " 'splot': '1.1.4',\n",
       " 'spopt': '0.1.2',\n",
       " 'pysal': '2.4.0'}"
      ]
     },
     "execution_count": 166,
     "metadata": {},
     "output_type": "execute_result"
    }
   ],
   "source": [
    "packages"
   ]
  },
  {
   "cell_type": "code",
   "execution_count": 167,
   "metadata": {},
   "outputs": [],
   "source": [
    "github_releases['pysal']['release_date'] = release_date"
   ]
  },
  {
   "cell_type": "code",
   "execution_count": 168,
   "metadata": {},
   "outputs": [
    {
     "data": {
      "text/plain": [
       "datetime.datetime(2021, 7, 31, 12, 0)"
      ]
     },
     "execution_count": 168,
     "metadata": {},
     "output_type": "execute_result"
    }
   ],
   "source": [
    "released"
   ]
  },
  {
   "cell_type": "code",
   "execution_count": 169,
   "metadata": {},
   "outputs": [
    {
     "data": {
      "text/plain": [
       "dict_keys(['libpysal', 'access', 'esda', 'giddy', 'inequality', 'pointpats', 'segregation', 'spaghetti', 'mgwr', 'spglm', 'spint', 'spreg', 'spvcm', 'tobler', 'mapclassify', 'splot', 'spopt', 'pysal'])"
      ]
     },
     "execution_count": 169,
     "metadata": {},
     "output_type": "execute_result"
    }
   ],
   "source": [
    "packages.keys()"
   ]
  },
  {
   "cell_type": "code",
   "execution_count": 170,
   "metadata": {},
   "outputs": [],
   "source": [
    "spvcm = packages['spvcm']"
   ]
  },
  {
   "cell_type": "code",
   "execution_count": 171,
   "metadata": {},
   "outputs": [],
   "source": [
    "## skip packages not released since last meta release"
   ]
  },
  {
   "cell_type": "code",
   "execution_count": 172,
   "metadata": {},
   "outputs": [
    {
     "name": "stdout",
     "output_type": "stream",
     "text": [
      "new:  libpysal\n",
      "new:  access\n",
      "new:  esda\n",
      "old: giddy\n",
      "old: inequality\n",
      "old: pointpats\n",
      "new:  segregation\n",
      "new:  spaghetti\n",
      "old: mgwr\n",
      "old: spglm\n",
      "old: spint\n",
      "new:  spreg\n",
      "old: spvcm\n",
      "new:  tobler\n",
      "new:  mapclassify\n",
      "new:  splot\n",
      "new:  spopt\n",
      "new:  pysal\n"
     ]
    }
   ],
   "source": [
    "for package in github_releases:\n",
    "    if github_releases[package]['release_date']>since:\n",
    "        print(\"new: \",package)\n",
    "    else:\n",
    "        print('old:', package)"
   ]
  },
  {
   "cell_type": "code",
   "execution_count": 173,
   "metadata": {},
   "outputs": [
    {
     "data": {
      "text/plain": [
       "{'libpysal': {'version': 'v4.5.1.post2',\n",
       "  'url': 'https://api.github.com/repos/pysal/libpysal/tarball/v4.5.1.post2',\n",
       "  'release_date': datetime.datetime(2021, 6, 27, 18, 29, 51)},\n",
       " 'access': {'version': 'V1.1.3',\n",
       "  'url': 'https://api.github.com/repos/pysal/access/tarball/V1.1.3',\n",
       "  'release_date': datetime.datetime(2021, 1, 31, 21, 31, 11)},\n",
       " 'esda': {'version': 'v2.4.1',\n",
       "  'url': 'https://api.github.com/repos/pysal/esda/tarball/v2.4.1',\n",
       "  'release_date': datetime.datetime(2021, 7, 27, 12, 54, 27)},\n",
       " 'giddy': {'version': 'v2.3.3',\n",
       "  'url': 'https://api.github.com/repos/pysal/giddy/tarball/v2.3.3',\n",
       "  'release_date': datetime.datetime(2020, 6, 10, 4, 59, 45)},\n",
       " 'inequality': {'version': 'v1.0.0',\n",
       "  'url': 'https://api.github.com/repos/pysal/inequality/tarball/v1.0.0',\n",
       "  'release_date': datetime.datetime(2018, 10, 31, 22, 28, 18)},\n",
       " 'pointpats': {'version': 'v2.2.0',\n",
       "  'url': 'https://api.github.com/repos/pysal/pointpats/tarball/v2.2.0',\n",
       "  'release_date': datetime.datetime(2020, 7, 27, 22, 17, 33)},\n",
       " 'segregation': {'version': 'v2.0.0',\n",
       "  'url': 'https://api.github.com/repos/pysal/segregation/tarball/v2.0.0',\n",
       "  'release_date': datetime.datetime(2021, 6, 16, 22, 23, 41)},\n",
       " 'spaghetti': {'version': 'v1.6.2',\n",
       "  'url': 'https://api.github.com/repos/pysal/spaghetti/tarball/v1.6.2',\n",
       "  'release_date': datetime.datetime(2021, 6, 28, 23, 54, 51)},\n",
       " 'mgwr': {'version': 'v2.1.2',\n",
       "  'url': 'https://api.github.com/repos/pysal/mgwr/tarball/v2.1.2',\n",
       "  'release_date': datetime.datetime(2020, 9, 8, 21, 20, 34)},\n",
       " 'spglm': {'version': 'v1.0.8',\n",
       "  'url': 'https://api.github.com/repos/pysal/spglm/tarball/v1.0.8',\n",
       "  'release_date': datetime.datetime(2020, 9, 8, 20, 34, 8)},\n",
       " 'spint': {'version': 'v1.0.7',\n",
       "  'url': 'https://api.github.com/repos/pysal/spint/tarball/v1.0.7',\n",
       "  'release_date': datetime.datetime(2020, 9, 9, 2, 28, 50)},\n",
       " 'spreg': {'version': 'v1.2.4',\n",
       "  'url': 'https://api.github.com/repos/pysal/spreg/tarball/v1.2.4',\n",
       "  'release_date': datetime.datetime(2021, 6, 29, 19, 21, 48)},\n",
       " 'spvcm': {'version': 'v0.3.0',\n",
       "  'url': 'https://api.github.com/repos/pysal/spvcm/tarball/v0.3.0',\n",
       "  'release_date': datetime.datetime(2020, 2, 2, 19, 42, 39)},\n",
       " 'tobler': {'version': 'v0.8.2',\n",
       "  'url': 'https://api.github.com/repos/pysal/tobler/tarball/v0.8.2',\n",
       "  'release_date': datetime.datetime(2021, 6, 30, 18, 24, 55)},\n",
       " 'mapclassify': {'version': 'v2.4.3',\n",
       "  'url': 'https://api.github.com/repos/pysal/mapclassify/tarball/v2.4.3',\n",
       "  'release_date': datetime.datetime(2021, 7, 27, 3, 6, 32)},\n",
       " 'splot': {'version': 'v1.1.4',\n",
       "  'url': 'https://api.github.com/repos/pysal/splot/tarball/v1.1.4',\n",
       "  'release_date': datetime.datetime(2021, 7, 27, 15, 4, 13)},\n",
       " 'spopt': {'version': 'v0.1.2',\n",
       "  'url': 'https://api.github.com/repos/pysal/spopt/tarball/v0.1.2',\n",
       "  'release_date': datetime.datetime(2021, 6, 28, 23, 21, 33)},\n",
       " 'pysal': {'version': 'v2.5.0',\n",
       "  'release_date': datetime.datetime(2021, 7, 31, 0, 0)}}"
      ]
     },
     "execution_count": 173,
     "metadata": {},
     "output_type": "execute_result"
    }
   ],
   "source": [
    "github_releases"
   ]
  },
  {
   "cell_type": "code",
   "execution_count": 174,
   "metadata": {},
   "outputs": [
    {
     "name": "stdout",
     "output_type": "stream",
     "text": [
      "2021-06-27\n",
      "libpysal 57 48 2021-06-27\n",
      "2021-01-31\n",
      "access 6 0 2021-01-31\n",
      "2021-07-27\n",
      "esda 69 69 2021-07-27\n",
      "2020-06-10\n",
      "giddy 69 0 2020-06-10\n",
      "2018-10-31\n",
      "inequality 69 0 2018-10-31\n",
      "2020-07-27\n",
      "pointpats 69 0 2020-07-27\n",
      "2021-06-16\n",
      "segregation 57 57 2021-06-16\n",
      "2021-06-28\n",
      "spaghetti 171 149 2021-06-28\n",
      "2020-09-08\n",
      "mgwr 171 0 2020-09-08\n",
      "2020-09-08\n",
      "spglm 171 0 2020-09-08\n",
      "2020-09-09\n",
      "spint 171 0 2020-09-09\n",
      "2021-06-29\n",
      "spreg 18 15 2021-06-29\n",
      "2020-02-02\n",
      "spvcm 18 0 2020-02-02\n",
      "2021-06-30\n",
      "tobler 13 13 2021-06-30\n",
      "2021-07-27\n",
      "mapclassify 2 2 2021-07-27\n",
      "2021-07-27\n",
      "splot 18 18 2021-07-27\n",
      "2021-06-28\n",
      "spopt 130 103 2021-06-28\n",
      "2021-07-31\n",
      "pysal 2 2 2021-07-31\n"
     ]
    }
   ],
   "source": [
    "# commits\n",
    "cmd = ['git', 'log', '--oneline', since_date]\n",
    "\n",
    "activity = {}\n",
    "total_commits = 0\n",
    "tag_dates = {}\n",
    "for subpackage in packages:\n",
    "    released = github_releases[subpackage]['release_date']\n",
    "    tag_date = released.strftime(\"%Y-%m-%d\")\n",
    "    tag_dates[subpackage] = tag_date\n",
    "    print(tag_date)\n",
    "    #tag_date = tag_dates[subpackage]\n",
    "    ncommits = 0\n",
    "    if released > since:\n",
    "        os.chdir(CWD)\n",
    "        os.chdir('tmp/{subpackage}'.format(subpackage=subpackage))\n",
    "        cmd_until = cmd + ['--until=\"{tag_date}\"'.format(tag_date=tag_date)]\n",
    "        ncommits = len(check_output(cmd_until).splitlines())\n",
    "        ncommits_total = len(check_output(cmd).splitlines())\n",
    "    print(subpackage, ncommits_total, ncommits, tag_date)\n",
    "    total_commits += ncommits\n",
    "    activity[subpackage] = ncommits"
   ]
  },
  {
   "cell_type": "code",
   "execution_count": 175,
   "metadata": {},
   "outputs": [
    {
     "data": {
      "text/plain": [
       "{'libpysal': 48,\n",
       " 'access': 0,\n",
       " 'esda': 69,\n",
       " 'giddy': 0,\n",
       " 'inequality': 0,\n",
       " 'pointpats': 0,\n",
       " 'segregation': 57,\n",
       " 'spaghetti': 149,\n",
       " 'mgwr': 0,\n",
       " 'spglm': 0,\n",
       " 'spint': 0,\n",
       " 'spreg': 15,\n",
       " 'spvcm': 0,\n",
       " 'tobler': 13,\n",
       " 'mapclassify': 2,\n",
       " 'splot': 18,\n",
       " 'spopt': 103,\n",
       " 'pysal': 2}"
      ]
     },
     "execution_count": 175,
     "metadata": {},
     "output_type": "execute_result"
    }
   ],
   "source": [
    "activity"
   ]
  },
  {
   "cell_type": "code",
   "execution_count": null,
   "metadata": {},
   "outputs": [],
   "source": []
  },
  {
   "cell_type": "code",
   "execution_count": 176,
   "metadata": {},
   "outputs": [
    {
     "data": {
      "text/plain": [
       "'pysal'"
      ]
     },
     "execution_count": 176,
     "metadata": {},
     "output_type": "execute_result"
    }
   ],
   "source": [
    "subpackage"
   ]
  },
  {
   "cell_type": "code",
   "execution_count": 177,
   "metadata": {},
   "outputs": [
    {
     "data": {
      "text/plain": [
       "'/Users/serge/Dropbox/p/pysal/src/pysal/tools'"
      ]
     },
     "execution_count": 177,
     "metadata": {},
     "output_type": "execute_result"
    }
   ],
   "source": [
    "CWD"
   ]
  },
  {
   "cell_type": "code",
   "execution_count": 178,
   "metadata": {},
   "outputs": [
    {
     "name": "stdout",
     "output_type": "stream",
     "text": [
      "48\n",
      "libpysal 57 48 2021-06-27\n",
      "0\n",
      "access 6 0 2021-01-31\n",
      "69\n",
      "esda 69 69 2021-07-27\n",
      "57\n",
      "segregation 57 57 2021-06-16\n",
      "149\n",
      "spaghetti 171 149 2021-06-28\n",
      "15\n",
      "spreg 18 15 2021-06-29\n",
      "13\n",
      "tobler 13 13 2021-06-30\n",
      "2\n",
      "mapclassify 2 2 2021-07-27\n",
      "18\n",
      "splot 18 18 2021-07-27\n",
      "103\n",
      "spopt 130 103 2021-06-28\n",
      "2\n",
      "pysal 2 2 2021-07-31\n"
     ]
    }
   ],
   "source": [
    "# commits\n",
    "cmd = ['git', 'log', '--oneline', since_date]\n",
    "\n",
    "activity = {}\n",
    "total_commits = 0\n",
    "for subpackage in packages:\n",
    "    ncommits = 0\n",
    "    tag_date = tag_dates[subpackage]\n",
    "    released = github_releases[subpackage]['release_date']\n",
    "    if released > since:\n",
    "        os.chdir(CWD)\n",
    "        os.chdir('tmp/{subpackage}'.format(subpackage=subpackage))\n",
    "        cmd_until = cmd + ['--until=\"{tag_date}\"'.format(tag_date=tag_date)]\n",
    "        ncommits = len(check_output(cmd_until).splitlines())\n",
    "        print(ncommits)\n",
    "        ncommits_total = len(check_output(cmd).splitlines())\n",
    "        print(subpackage, ncommits_total, ncommits, tag_date)\n",
    "    total_commits += ncommits\n",
    "    activity[subpackage] = ncommits"
   ]
  },
  {
   "cell_type": "code",
   "execution_count": 179,
   "metadata": {},
   "outputs": [
    {
     "data": {
      "text/plain": [
       "'--since=\"2021-01-31\"'"
      ]
     },
     "execution_count": 179,
     "metadata": {},
     "output_type": "execute_result"
    }
   ],
   "source": [
    "since_date"
   ]
  },
  {
   "cell_type": "code",
   "execution_count": 180,
   "metadata": {},
   "outputs": [
    {
     "data": {
      "text/plain": [
       "['git', 'log', '--oneline', '--since=\"2021-01-31\"', '--until=\"2021-07-31\"']"
      ]
     },
     "execution_count": 180,
     "metadata": {},
     "output_type": "execute_result"
    }
   ],
   "source": [
    "cmd_until"
   ]
  },
  {
   "cell_type": "code",
   "execution_count": 181,
   "metadata": {},
   "outputs": [],
   "source": [
    "identities = {'Levi John Wolf': ('ljwolf', 'Levi John Wolf'),\n",
    "              'Serge Rey': ('Serge Rey', 'Sergio Rey', 'sjsrey', 'serge'),\n",
    "              'Wei Kang': ('Wei Kang', 'weikang9009'),\n",
    "              'Dani Arribas-Bel': ('Dani Arribas-Bel', 'darribas'),\n",
    "              'Antti Härkönen': ( 'antth', 'Antti Härkönen', 'Antti Härkönen', 'Antth'  ),\n",
    "              'Juan C Duque': ('Juan C Duque', \"Juan Duque\"),\n",
    "              'Renan Xavier Cortes': ('Renan Xavier Cortes', 'renanxcortes', 'Renan Xavier Cortes'   ),\n",
    "              'Taylor Oshan': ('Tayloroshan', 'Taylor Oshan', 'TaylorOshan'),\n",
    "              'Tom Gertin': ('@Tomgertin', 'Tom Gertin', '@tomgertin')\n",
    "}\n",
    "\n",
    "def regularize_identity(string):\n",
    "    string = string.decode()\n",
    "    for name, aliases in identities.items():\n",
    "        for alias in aliases:\n",
    "            if alias in string:\n",
    "                string = string.replace(alias, name)\n",
    "    if len(string.split(' '))>1:\n",
    "        string = string.title()\n",
    "    return string.lstrip('* ')"
   ]
  },
  {
   "cell_type": "code",
   "execution_count": 182,
   "metadata": {},
   "outputs": [],
   "source": [
    "author_cmd = ['git', 'log', '--format=* %aN', since_date]"
   ]
  },
  {
   "cell_type": "code",
   "execution_count": 183,
   "metadata": {},
   "outputs": [],
   "source": [
    "author_cmd.append('blank')"
   ]
  },
  {
   "cell_type": "code",
   "execution_count": 184,
   "metadata": {},
   "outputs": [
    {
     "data": {
      "text/plain": [
       "['git', 'log', '--format=* %aN', '--since=\"2021-01-31\"', 'blank']"
      ]
     },
     "execution_count": 184,
     "metadata": {},
     "output_type": "execute_result"
    }
   ],
   "source": [
    "author_cmd"
   ]
  },
  {
   "cell_type": "code",
   "execution_count": 185,
   "metadata": {},
   "outputs": [],
   "source": [
    "from collections import Counter"
   ]
  },
  {
   "cell_type": "code",
   "execution_count": 186,
   "metadata": {},
   "outputs": [
    {
     "data": {
      "text/plain": [
       "{'libpysal': '2021-06-27',\n",
       " 'access': '2021-01-31',\n",
       " 'esda': '2021-07-27',\n",
       " 'giddy': '2020-06-10',\n",
       " 'inequality': '2018-10-31',\n",
       " 'pointpats': '2020-07-27',\n",
       " 'segregation': '2021-06-16',\n",
       " 'spaghetti': '2021-06-28',\n",
       " 'mgwr': '2020-09-08',\n",
       " 'spglm': '2020-09-08',\n",
       " 'spint': '2020-09-09',\n",
       " 'spreg': '2021-06-29',\n",
       " 'spvcm': '2020-02-02',\n",
       " 'tobler': '2021-06-30',\n",
       " 'mapclassify': '2021-07-27',\n",
       " 'splot': '2021-07-27',\n",
       " 'spopt': '2021-06-28',\n",
       " 'pysal': '2021-07-31'}"
      ]
     },
     "execution_count": 186,
     "metadata": {},
     "output_type": "execute_result"
    }
   ],
   "source": [
    "tag_dates"
   ]
  },
  {
   "cell_type": "code",
   "execution_count": 187,
   "metadata": {},
   "outputs": [
    {
     "name": "stdout",
     "output_type": "stream",
     "text": [
      "['git', 'log', '--oneline', '--since=\"2021-01-31\"']\n",
      "libpysal ['git', 'log', '--format=* %aN', '--since=\"2021-01-31\"', '--until=\"2021-06-28\"']\n",
      "['git', 'log', '--oneline', '--since=\"2021-01-31\"']\n",
      "access ['git', 'log', '--format=* %aN', '--since=\"2021-01-31\"', '--until=\"2021-02-01\"']\n",
      "['git', 'log', '--oneline', '--since=\"2021-01-31\"']\n",
      "esda ['git', 'log', '--format=* %aN', '--since=\"2021-01-31\"', '--until=\"2021-07-28\"']\n",
      "['git', 'log', '--oneline', '--since=\"2021-01-31\"']\n",
      "segregation ['git', 'log', '--format=* %aN', '--since=\"2021-01-31\"', '--until=\"2021-06-17\"']\n",
      "['git', 'log', '--oneline', '--since=\"2021-01-31\"']\n",
      "spaghetti ['git', 'log', '--format=* %aN', '--since=\"2021-01-31\"', '--until=\"2021-06-29\"']\n",
      "['git', 'log', '--oneline', '--since=\"2021-01-31\"']\n",
      "spreg ['git', 'log', '--format=* %aN', '--since=\"2021-01-31\"', '--until=\"2021-06-30\"']\n",
      "['git', 'log', '--oneline', '--since=\"2021-01-31\"']\n",
      "tobler ['git', 'log', '--format=* %aN', '--since=\"2021-01-31\"', '--until=\"2021-07-01\"']\n",
      "['git', 'log', '--oneline', '--since=\"2021-01-31\"']\n",
      "mapclassify ['git', 'log', '--format=* %aN', '--since=\"2021-01-31\"', '--until=\"2021-07-28\"']\n",
      "['git', 'log', '--oneline', '--since=\"2021-01-31\"']\n",
      "splot ['git', 'log', '--format=* %aN', '--since=\"2021-01-31\"', '--until=\"2021-07-28\"']\n",
      "['git', 'log', '--oneline', '--since=\"2021-01-31\"']\n",
      "spopt ['git', 'log', '--format=* %aN', '--since=\"2021-01-31\"', '--until=\"2021-06-29\"']\n",
      "['git', 'log', '--oneline', '--since=\"2021-01-31\"']\n",
      "pysal ['git', 'log', '--format=* %aN', '--since=\"2021-01-31\"', '--until=\"2021-08-01\"']\n"
     ]
    }
   ],
   "source": [
    "authors_global = set()\n",
    "authors = {}\n",
    "global_counter = Counter()\n",
    "counters = dict()\n",
    "cmd = ['git', 'log', '--oneline', since_date]\n",
    "total_commits = 0\n",
    "activity = {}\n",
    "for subpackage in packages:\n",
    "    ncommits = 0\n",
    "    released = github_releases[subpackage]['release_date']\n",
    "    if released > since:\n",
    "        os.chdir(CWD)\n",
    "        os.chdir('tmp/{subpackage}'.format(subpackage=subpackage))\n",
    "        ncommits = len(check_output(cmd).splitlines())\n",
    "        print(cmd)\n",
    "        tag_date = tag_dates[subpackage]\n",
    "        tag_date = (datetime.strptime(tag_date, '%Y-%m-%d') + timedelta(days=1)).strftime('%Y-%m-%d')\n",
    "        author_cmd[-1] = '--until=\"{tag_date}\"'.format(tag_date=tag_date)\n",
    "        #cmd_until = cmd + ['--until=\"{tag_date}\"'.format(tag_date=tag_date)]\n",
    "        print(subpackage, author_cmd)\n",
    "\n",
    "\n",
    "        all_authors = check_output(author_cmd).splitlines()\n",
    "        counter = Counter([regularize_identity(author) for author in all_authors])\n",
    "        global_counter += counter\n",
    "        counters.update({subpackage: counter})\n",
    "        unique_authors = sorted(set(all_authors))\n",
    "        authors[subpackage] =  unique_authors\n",
    "        authors_global.update(unique_authors)\n",
    "    total_commits += ncommits\n",
    "    activity[subpackage] = ncommits"
   ]
  },
  {
   "cell_type": "code",
   "execution_count": 188,
   "metadata": {},
   "outputs": [
    {
     "data": {
      "text/plain": [
       "['git',\n",
       " 'log',\n",
       " '--format=* %aN',\n",
       " '--since=\"2021-01-31\"',\n",
       " '--until=\"2021-08-01\"']"
      ]
     },
     "execution_count": 188,
     "metadata": {},
     "output_type": "execute_result"
    }
   ],
   "source": [
    "author_cmd"
   ]
  },
  {
   "cell_type": "code",
   "execution_count": 189,
   "metadata": {},
   "outputs": [
    {
     "data": {
      "text/plain": [
       "'pysal'"
      ]
     },
     "execution_count": 189,
     "metadata": {},
     "output_type": "execute_result"
    }
   ],
   "source": [
    "subpackage"
   ]
  },
  {
   "cell_type": "code",
   "execution_count": 190,
   "metadata": {},
   "outputs": [
    {
     "data": {
      "text/plain": [
       "Counter({'Serge Rey': 2})"
      ]
     },
     "execution_count": 190,
     "metadata": {},
     "output_type": "execute_result"
    }
   ],
   "source": [
    "counter"
   ]
  },
  {
   "cell_type": "code",
   "execution_count": 191,
   "metadata": {},
   "outputs": [
    {
     "data": {
      "text/plain": [
       "{b'* Arfon Smith',\n",
       " b'* Dani Arribas-Bel',\n",
       " b'* Elliott Sales de Andrade',\n",
       " b'* James Gaboardi',\n",
       " b'* Justin Pihony',\n",
       " b'* Leo Morales',\n",
       " b'* Levi John Wolf',\n",
       " b'* Martin Fleischmann',\n",
       " b'* MgeeeeK',\n",
       " b'* Pedro Amaral',\n",
       " b'* Pedro Camargo',\n",
       " b'* Serge Rey',\n",
       " b'* Sergio Rey',\n",
       " b'* Stefanie Lumnitz',\n",
       " b'* TLouf',\n",
       " b'* Xin (Selena) Feng',\n",
       " b'* Xin Feng',\n",
       " b'* dependabot[bot]',\n",
       " b'* eli knaap',\n",
       " b'* jeffcsauer',\n",
       " b'* jkoschinsky',\n",
       " b'* ljwolf'}"
      ]
     },
     "execution_count": 191,
     "metadata": {},
     "output_type": "execute_result"
    }
   ],
   "source": [
    "authors_global"
   ]
  },
  {
   "cell_type": "code",
   "execution_count": 192,
   "metadata": {},
   "outputs": [
    {
     "data": {
      "text/plain": [
       "{'libpysal': 57,\n",
       " 'access': 6,\n",
       " 'esda': 69,\n",
       " 'giddy': 0,\n",
       " 'inequality': 0,\n",
       " 'pointpats': 0,\n",
       " 'segregation': 57,\n",
       " 'spaghetti': 171,\n",
       " 'mgwr': 0,\n",
       " 'spglm': 0,\n",
       " 'spint': 0,\n",
       " 'spreg': 18,\n",
       " 'spvcm': 0,\n",
       " 'tobler': 13,\n",
       " 'mapclassify': 2,\n",
       " 'splot': 18,\n",
       " 'spopt': 130,\n",
       " 'pysal': 2}"
      ]
     },
     "execution_count": 192,
     "metadata": {},
     "output_type": "execute_result"
    }
   ],
   "source": [
    "activity"
   ]
  },
  {
   "cell_type": "code",
   "execution_count": 193,
   "metadata": {},
   "outputs": [
    {
     "data": {
      "text/plain": [
       "{'libpysal': Counter({'James Gaboardi': 26,\n",
       "          'Serge Rey': 22,\n",
       "          'Elliott Sales De Andrade': 1,\n",
       "          'Mgeeeek': 2,\n",
       "          'Dani Arribas-Bel': 1}),\n",
       " 'access': Counter({'Jkoschinsky': 1}),\n",
       " 'esda': Counter({'James Gaboardi': 6,\n",
       "          'Dependabot[Bot]': 1,\n",
       "          'Serge Rey': 6,\n",
       "          'Tlouf': 3,\n",
       "          'Leo Morales': 1,\n",
       "          'Levi John Wolf': 43,\n",
       "          'Martin Fleischmann': 7,\n",
       "          'Jeffcsauer': 1,\n",
       "          'Dani Arribas-Bel': 1}),\n",
       " 'segregation': Counter({'Eli Knaap': 49,\n",
       "          'Serge Rey': 6,\n",
       "          'James Gaboardi': 2}),\n",
       " 'spaghetti': Counter({'James Gaboardi': 151,\n",
       "          'Arfon Smith': 1,\n",
       "          'Stefanie Lumnitz': 1}),\n",
       " 'spreg': Counter({'James Gaboardi': 11, 'Serge Rey': 2, 'Pedro Amaral': 2}),\n",
       " 'tobler': Counter({'Eli Knaap': 10, 'Serge Rey': 2, 'Martin Fleischmann': 1}),\n",
       " 'mapclassify': Counter({'Serge Rey': 1, 'Justin Pihony': 1}),\n",
       " 'splot': Counter({'Stefanie Lumnitz': 2,\n",
       "          'James Gaboardi': 8,\n",
       "          'Martin Fleischmann': 8}),\n",
       " 'spopt': Counter({'James Gaboardi': 79,\n",
       "          'Serge Rey': 10,\n",
       "          'Pedro Camargo': 1,\n",
       "          'Dependabot[Bot]': 1,\n",
       "          'Xin (Selena) Feng': 8,\n",
       "          'Xin Feng': 5}),\n",
       " 'pysal': Counter({'Serge Rey': 2})}"
      ]
     },
     "execution_count": 193,
     "metadata": {},
     "output_type": "execute_result"
    }
   ],
   "source": [
    "counters"
   ]
  },
  {
   "cell_type": "code",
   "execution_count": 194,
   "metadata": {},
   "outputs": [
    {
     "data": {
      "text/plain": [
       "{'libpysal': Counter({'James Gaboardi': 26,\n",
       "          'Serge Rey': 22,\n",
       "          'Elliott Sales De Andrade': 1,\n",
       "          'Mgeeeek': 2,\n",
       "          'Dani Arribas-Bel': 1}),\n",
       " 'access': Counter({'Jkoschinsky': 1}),\n",
       " 'esda': Counter({'James Gaboardi': 6,\n",
       "          'Dependabot[Bot]': 1,\n",
       "          'Serge Rey': 6,\n",
       "          'Tlouf': 3,\n",
       "          'Leo Morales': 1,\n",
       "          'Levi John Wolf': 43,\n",
       "          'Martin Fleischmann': 7,\n",
       "          'Jeffcsauer': 1,\n",
       "          'Dani Arribas-Bel': 1}),\n",
       " 'segregation': Counter({'Eli Knaap': 49,\n",
       "          'Serge Rey': 6,\n",
       "          'James Gaboardi': 2}),\n",
       " 'spaghetti': Counter({'James Gaboardi': 151,\n",
       "          'Arfon Smith': 1,\n",
       "          'Stefanie Lumnitz': 1}),\n",
       " 'spreg': Counter({'James Gaboardi': 11, 'Serge Rey': 2, 'Pedro Amaral': 2}),\n",
       " 'tobler': Counter({'Eli Knaap': 10, 'Serge Rey': 2, 'Martin Fleischmann': 1}),\n",
       " 'mapclassify': Counter({'Serge Rey': 1, 'Justin Pihony': 1}),\n",
       " 'splot': Counter({'Stefanie Lumnitz': 2,\n",
       "          'James Gaboardi': 8,\n",
       "          'Martin Fleischmann': 8}),\n",
       " 'spopt': Counter({'James Gaboardi': 79,\n",
       "          'Serge Rey': 10,\n",
       "          'Pedro Camargo': 1,\n",
       "          'Dependabot[Bot]': 1,\n",
       "          'Xin (Selena) Feng': 8,\n",
       "          'Xin Feng': 5}),\n",
       " 'pysal': Counter({'Serge Rey': 2})}"
      ]
     },
     "execution_count": 194,
     "metadata": {},
     "output_type": "execute_result"
    }
   ],
   "source": [
    "counters"
   ]
  },
  {
   "cell_type": "code",
   "execution_count": 195,
   "metadata": {},
   "outputs": [],
   "source": [
    "def get_tag(title, level=\"##\", as_string=True):\n",
    "    words = title.split()\n",
    "    tag = \"-\".join([word.lower() for word in words])\n",
    "    heading = level+\" \"+title\n",
    "    line = \"\\n\\n<a name=\\\"{}\\\"></a>\".format(tag)\n",
    "    lines = [line]\n",
    "    lines.append(heading)\n",
    "    if as_string:\n",
    "        return \"\\n\".join(lines)\n",
    "    else:\n",
    "        return lines"
   ]
  },
  {
   "cell_type": "code",
   "execution_count": 196,
   "metadata": {},
   "outputs": [],
   "source": [
    "subs = issue_details.keys()\n",
    "table = []\n",
    "txt = []\n",
    "lines = get_tag(\"Changes by Package\", as_string=False)\n",
    "\n",
    "for sub in subs:\n",
    "    total= issue_details[sub]\n",
    "    pr = pull_details[sub]\n",
    "    \n",
    "    row = [sub, activity[sub], len(total), len(pr)]\n",
    "    table.append(row)\n",
    "    #line = \"\\n<a name=\\\"{sub}\\\"></a>\".format(sub=sub)\n",
    "    #lines.append(line)\n",
    "    #line = \"### {sub}\".format(sub=sub)\n",
    "    #lines.append(line)\n",
    "    lines.extend(get_tag(sub.lower(), \"###\", as_string=False))\n",
    "    for issue in total:\n",
    "        url = issue['html_url']\n",
    "        title = issue['title']\n",
    "        number = issue['number']\n",
    "        line = \"* [#{number}:]({url}) {title} \".format(title=title,\n",
    "                                                     number=number,\n",
    "                                                     url=url)\n",
    "        lines.append(line)\n",
    "\n"
   ]
  },
  {
   "cell_type": "code",
   "execution_count": 197,
   "metadata": {},
   "outputs": [
    {
     "data": {
      "text/plain": [
       "'pysal'"
      ]
     },
     "execution_count": 197,
     "metadata": {},
     "output_type": "execute_result"
    }
   ],
   "source": [
    "sub"
   ]
  },
  {
   "cell_type": "code",
   "execution_count": 198,
   "metadata": {},
   "outputs": [],
   "source": [
    "os.chdir(CWD)\n",
    "\n",
    "import pandas"
   ]
  },
  {
   "cell_type": "code",
   "execution_count": 199,
   "metadata": {},
   "outputs": [],
   "source": [
    "df = pandas.DataFrame(table, columns=['package', 'commits', 'total issues', 'pulls'])"
   ]
  },
  {
   "cell_type": "code",
   "execution_count": 200,
   "metadata": {},
   "outputs": [
    {
     "data": {
      "text/html": [
       "<div>\n",
       "<style scoped>\n",
       "    .dataframe tbody tr th:only-of-type {\n",
       "        vertical-align: middle;\n",
       "    }\n",
       "\n",
       "    .dataframe tbody tr th {\n",
       "        vertical-align: top;\n",
       "    }\n",
       "\n",
       "    .dataframe thead th {\n",
       "        text-align: right;\n",
       "    }\n",
       "</style>\n",
       "<table border=\"1\" class=\"dataframe\">\n",
       "  <thead>\n",
       "    <tr style=\"text-align: right;\">\n",
       "      <th></th>\n",
       "      <th>package</th>\n",
       "      <th>commits</th>\n",
       "      <th>total issues</th>\n",
       "      <th>pulls</th>\n",
       "    </tr>\n",
       "  </thead>\n",
       "  <tbody>\n",
       "    <tr>\n",
       "      <th>0</th>\n",
       "      <td>libpysal</td>\n",
       "      <td>57</td>\n",
       "      <td>28</td>\n",
       "      <td>0</td>\n",
       "    </tr>\n",
       "    <tr>\n",
       "      <th>1</th>\n",
       "      <td>access</td>\n",
       "      <td>6</td>\n",
       "      <td>0</td>\n",
       "      <td>0</td>\n",
       "    </tr>\n",
       "    <tr>\n",
       "      <th>2</th>\n",
       "      <td>esda</td>\n",
       "      <td>69</td>\n",
       "      <td>20</td>\n",
       "      <td>0</td>\n",
       "    </tr>\n",
       "    <tr>\n",
       "      <th>3</th>\n",
       "      <td>giddy</td>\n",
       "      <td>0</td>\n",
       "      <td>0</td>\n",
       "      <td>0</td>\n",
       "    </tr>\n",
       "    <tr>\n",
       "      <th>4</th>\n",
       "      <td>inequality</td>\n",
       "      <td>0</td>\n",
       "      <td>0</td>\n",
       "      <td>0</td>\n",
       "    </tr>\n",
       "  </tbody>\n",
       "</table>\n",
       "</div>"
      ],
      "text/plain": [
       "      package  commits  total issues  pulls\n",
       "0    libpysal       57            28      0\n",
       "1      access        6             0      0\n",
       "2        esda       69            20      0\n",
       "3       giddy        0             0      0\n",
       "4  inequality        0             0      0"
      ]
     },
     "execution_count": 200,
     "metadata": {},
     "output_type": "execute_result"
    }
   ],
   "source": [
    "df.head()"
   ]
  },
  {
   "cell_type": "code",
   "execution_count": 201,
   "metadata": {},
   "outputs": [],
   "source": [
    "df.sort_values(['commits','pulls'], ascending=False)\\\n",
    "  .to_html('./commit_table.html', index=None)"
   ]
  },
  {
   "cell_type": "code",
   "execution_count": 202,
   "metadata": {},
   "outputs": [
    {
     "data": {
      "text/plain": [
       "package         libpysalaccessesdagiddyinequalitypointpatssegr...\n",
       "commits                                                       543\n",
       "total issues                                                  190\n",
       "pulls                                                          33\n",
       "dtype: object"
      ]
     },
     "execution_count": 202,
     "metadata": {},
     "output_type": "execute_result"
    }
   ],
   "source": [
    "df.sum()"
   ]
  },
  {
   "cell_type": "code",
   "execution_count": 203,
   "metadata": {},
   "outputs": [],
   "source": [
    "contributor_table = pandas.DataFrame.from_dict(counters).fillna(0).astype(int).T"
   ]
  },
  {
   "cell_type": "code",
   "execution_count": 204,
   "metadata": {},
   "outputs": [],
   "source": [
    "contributor_table.to_html('./contributor_table.html')"
   ]
  },
  {
   "cell_type": "code",
   "execution_count": 205,
   "metadata": {},
   "outputs": [
    {
     "data": {
      "text/html": [
       "<div>\n",
       "<style scoped>\n",
       "    .dataframe tbody tr th:only-of-type {\n",
       "        vertical-align: middle;\n",
       "    }\n",
       "\n",
       "    .dataframe tbody tr th {\n",
       "        vertical-align: top;\n",
       "    }\n",
       "\n",
       "    .dataframe thead th {\n",
       "        text-align: right;\n",
       "    }\n",
       "</style>\n",
       "<table border=\"1\" class=\"dataframe\">\n",
       "  <thead>\n",
       "    <tr style=\"text-align: right;\">\n",
       "      <th></th>\n",
       "      <th>commits</th>\n",
       "    </tr>\n",
       "  </thead>\n",
       "  <tbody>\n",
       "    <tr>\n",
       "      <th>Arfon Smith</th>\n",
       "      <td>1</td>\n",
       "    </tr>\n",
       "    <tr>\n",
       "      <th>Dani Arribas-Bel</th>\n",
       "      <td>2</td>\n",
       "    </tr>\n",
       "    <tr>\n",
       "      <th>Dependabot[Bot]</th>\n",
       "      <td>2</td>\n",
       "    </tr>\n",
       "    <tr>\n",
       "      <th>Eli Knaap</th>\n",
       "      <td>59</td>\n",
       "    </tr>\n",
       "    <tr>\n",
       "      <th>Elliott Sales De Andrade</th>\n",
       "      <td>1</td>\n",
       "    </tr>\n",
       "    <tr>\n",
       "      <th>James Gaboardi</th>\n",
       "      <td>283</td>\n",
       "    </tr>\n",
       "    <tr>\n",
       "      <th>Jeffcsauer</th>\n",
       "      <td>1</td>\n",
       "    </tr>\n",
       "    <tr>\n",
       "      <th>Jkoschinsky</th>\n",
       "      <td>1</td>\n",
       "    </tr>\n",
       "    <tr>\n",
       "      <th>Justin Pihony</th>\n",
       "      <td>1</td>\n",
       "    </tr>\n",
       "    <tr>\n",
       "      <th>Leo Morales</th>\n",
       "      <td>1</td>\n",
       "    </tr>\n",
       "    <tr>\n",
       "      <th>Levi John Wolf</th>\n",
       "      <td>43</td>\n",
       "    </tr>\n",
       "    <tr>\n",
       "      <th>Martin Fleischmann</th>\n",
       "      <td>16</td>\n",
       "    </tr>\n",
       "    <tr>\n",
       "      <th>Mgeeeek</th>\n",
       "      <td>2</td>\n",
       "    </tr>\n",
       "    <tr>\n",
       "      <th>Pedro Amaral</th>\n",
       "      <td>2</td>\n",
       "    </tr>\n",
       "    <tr>\n",
       "      <th>Pedro Camargo</th>\n",
       "      <td>1</td>\n",
       "    </tr>\n",
       "    <tr>\n",
       "      <th>Serge Rey</th>\n",
       "      <td>51</td>\n",
       "    </tr>\n",
       "    <tr>\n",
       "      <th>Stefanie Lumnitz</th>\n",
       "      <td>3</td>\n",
       "    </tr>\n",
       "    <tr>\n",
       "      <th>Tlouf</th>\n",
       "      <td>3</td>\n",
       "    </tr>\n",
       "    <tr>\n",
       "      <th>Xin (Selena) Feng</th>\n",
       "      <td>8</td>\n",
       "    </tr>\n",
       "    <tr>\n",
       "      <th>Xin Feng</th>\n",
       "      <td>5</td>\n",
       "    </tr>\n",
       "  </tbody>\n",
       "</table>\n",
       "</div>"
      ],
      "text/plain": [
       "                          commits\n",
       "Arfon Smith                     1\n",
       "Dani Arribas-Bel                2\n",
       "Dependabot[Bot]                 2\n",
       "Eli Knaap                      59\n",
       "Elliott Sales De Andrade        1\n",
       "James Gaboardi                283\n",
       "Jeffcsauer                      1\n",
       "Jkoschinsky                     1\n",
       "Justin Pihony                   1\n",
       "Leo Morales                     1\n",
       "Levi John Wolf                 43\n",
       "Martin Fleischmann             16\n",
       "Mgeeeek                         2\n",
       "Pedro Amaral                    2\n",
       "Pedro Camargo                   1\n",
       "Serge Rey                      51\n",
       "Stefanie Lumnitz                3\n",
       "Tlouf                           3\n",
       "Xin (Selena) Feng               8\n",
       "Xin Feng                        5"
      ]
     },
     "execution_count": 205,
     "metadata": {},
     "output_type": "execute_result"
    }
   ],
   "source": [
    "totals = contributor_table.sum(axis=0).T\n",
    "totals.sort_index().to_frame('commits')"
   ]
  },
  {
   "cell_type": "code",
   "execution_count": 206,
   "metadata": {},
   "outputs": [],
   "source": [
    "totals = contributor_table.sum(axis=0).T\n",
    "totals.sort_index().to_frame('commits').to_html('./commits_by_person.html')"
   ]
  },
  {
   "cell_type": "code",
   "execution_count": 207,
   "metadata": {},
   "outputs": [
    {
     "data": {
      "text/plain": [
       "James Gaboardi              283\n",
       "Serge Rey                    51\n",
       "Elliott Sales De Andrade      1\n",
       "Mgeeeek                       2\n",
       "Dani Arribas-Bel              2\n",
       "Jkoschinsky                   1\n",
       "Dependabot[Bot]               2\n",
       "Tlouf                         3\n",
       "Leo Morales                   1\n",
       "Levi John Wolf               43\n",
       "Martin Fleischmann           16\n",
       "Jeffcsauer                    1\n",
       "Eli Knaap                    59\n",
       "Arfon Smith                   1\n",
       "Stefanie Lumnitz              3\n",
       "Pedro Amaral                  2\n",
       "Justin Pihony                 1\n",
       "Pedro Camargo                 1\n",
       "Xin (Selena) Feng             8\n",
       "Xin Feng                      5\n",
       "dtype: int64"
      ]
     },
     "execution_count": 207,
     "metadata": {},
     "output_type": "execute_result"
    }
   ],
   "source": [
    "totals"
   ]
  },
  {
   "cell_type": "code",
   "execution_count": 208,
   "metadata": {},
   "outputs": [],
   "source": [
    "n_commits = df.commits.sum()\n",
    "n_issues = df['total issues'].sum()\n",
    "n_pulls = df.pulls.sum()"
   ]
  },
  {
   "cell_type": "code",
   "execution_count": 209,
   "metadata": {},
   "outputs": [
    {
     "data": {
      "text/plain": [
       "543"
      ]
     },
     "execution_count": 209,
     "metadata": {},
     "output_type": "execute_result"
    }
   ],
   "source": [
    "n_commits"
   ]
  },
  {
   "cell_type": "code",
   "execution_count": 210,
   "metadata": {},
   "outputs": [],
   "source": [
    "#Overall, there were 719 commits that closed 240 issues, together with 105 pull requests across 12 packages since our last release on 2017-11-03.\n",
    "#('{0} Here is a really long '\n",
    "#           'sentence with {1}').format(3, 5))\n",
    "line = ('Overall, there were {n_commits} commits that closed {n_issues} issues,'  \n",
    "    ' together with {n_pulls} pull requests since our last release' \n",
    "        ' on {since_date}.\\n'.format(n_commits=n_commits, n_issues=n_issues,\n",
    "        n_pulls=n_pulls, since_date = start_date))"
   ]
  },
  {
   "cell_type": "code",
   "execution_count": 211,
   "metadata": {},
   "outputs": [
    {
     "data": {
      "text/plain": [
       "'Overall, there were 543 commits that closed 190 issues, together with 33 pull requests since our last release on 2021-01-31.\\n'"
      ]
     },
     "execution_count": 211,
     "metadata": {},
     "output_type": "execute_result"
    }
   ],
   "source": [
    "line"
   ]
  },
  {
   "cell_type": "markdown",
   "metadata": {},
   "source": [
    "## append html files to end of changes.md with tags for toc"
   ]
  },
  {
   "cell_type": "code",
   "execution_count": 227,
   "metadata": {},
   "outputs": [],
   "source": [
    "with open('changes.md', 'w') as fout:\n",
    "    fout.write(line)\n",
    "    fout.write(\"\\n\".join(lines))\n",
    "    fout.write(get_tag(\"Contributors\"))\n",
    "    fout.write(\"\\n\\nMany thanks to all of the following individuals who contributed to this release:\\n\\n\")\n",
    "    \n",
    "    \n",
    "    \n",
    "    totals = contributor_table.sum(axis=0).T\n",
    "    contributors = totals.index.values\n",
    "    contributors.sort()\n",
    "    contributors = contributors.tolist() \n",
    "    contributors = [ f'\\n - {contributor}' for contributor in contributors]\n",
    "    fout.write(\"\".join(contributors))\n",
    "    \n"
   ]
  }
 ],
 "metadata": {
  "kernelspec": {
   "display_name": "Python 3",
   "language": "python",
   "name": "python3"
  },
  "language_info": {
   "codemirror_mode": {
    "name": "ipython",
    "version": 3
   },
   "file_extension": ".py",
   "mimetype": "text/x-python",
   "name": "python",
   "nbconvert_exporter": "python",
   "pygments_lexer": "ipython3",
   "version": "3.8.10"
  }
 },
 "nbformat": 4,
 "nbformat_minor": 4
}
