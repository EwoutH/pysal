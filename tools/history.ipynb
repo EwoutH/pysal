{
 "cells": [
  {
   "cell_type": "code",
   "execution_count": 1,
   "id": "48aa05dd-5b58-4ad8-a140-5e546d0f8819",
   "metadata": {},
   "outputs": [],
   "source": [
    "from release_info import (issues_closed_since, packages,\n",
    "                          is_pull_request,\n",
    "                          sorted_by_field,\n",
    "                          clone_defaults,\n",
    "                          get_meta_releases\n",
    "                         )"
   ]
  },
  {
   "cell_type": "code",
   "execution_count": 2,
   "id": "87e441d0-57aa-4f5f-83b2-6e787c731b07",
   "metadata": {},
   "outputs": [],
   "source": [
    "info = get_meta_releases()"
   ]
  },
  {
   "cell_type": "code",
   "execution_count": 4,
   "id": "26986a65-bc53-4cc3-9019-c680c7abeadd",
   "metadata": {},
   "outputs": [
    {
     "data": {
      "text/plain": [
       "22"
      ]
     },
     "execution_count": 4,
     "metadata": {},
     "output_type": "execute_result"
    }
   ],
   "source": [
    "len(info)"
   ]
  },
  {
   "cell_type": "code",
   "execution_count": null,
   "id": "5dbdb351-fcd5-40b5-9618-abcc989c2de9",
   "metadata": {},
   "outputs": [],
   "source": [
    "\n",
    "`CNN <http://cnn.com>`_\n"
   ]
  },
  {
   "cell_type": "code",
   "execution_count": 29,
   "id": "8b587c89-5748-4a85-a6ce-996b7a2be8fd",
   "metadata": {},
   "outputs": [],
   "source": [
    "content = \"\"\"PySAL Release Notes\n",
    "===================\n",
    "\n",
    "This is the list of changes to PySAL for each release.\n",
    "\\n\"\"\"\n",
    "lines = []\n",
    "for release in info:\n",
    "    pd = release['published_at']\n",
    "    tag = release['tag_name']\n",
    "    tag = tag.replace(\"v\", \"\")\n",
    "    url = release['html_url']\n",
    "    if 'rc' not in tag:\n",
    "        line = f\"- `PySAL {tag} <{url}>`_\"\n",
    "        lines.append(line)\n",
    "        \n",
    "with open(\"../docsrc/releases.rst\", 'w') as f:\n",
    "    f.write(content+\"\\n\".join(lines))"
   ]
  },
  {
   "cell_type": "code",
   "execution_count": 30,
   "id": "ffead320-ab4c-440c-b3c2-f7824fc8682b",
   "metadata": {},
   "outputs": [
    {
     "data": {
      "text/plain": [
       "['- `PySAL 2.5.0 <https://github.com/pysal/pysal/releases/tag/v2.5.0>`_',\n",
       " '- `PySAL 2.4.0 <https://github.com/pysal/pysal/releases/tag/v2.4.0>`_',\n",
       " '- `PySAL 2.3.0 <https://github.com/pysal/pysal/releases/tag/v2.3.0>`_',\n",
       " '- `PySAL 2.2.0 <https://github.com/pysal/pysal/releases/tag/v2.2.0>`_',\n",
       " '- `PySAL 2.1.0 <https://github.com/pysal/pysal/releases/tag/v2.1.0>`_',\n",
       " '- `PySAL 2.0.0 <https://github.com/pysal/pysal/releases/tag/v2.0.0>`_',\n",
       " '- `PySAL 1.14.4 <https://github.com/pysal/pysal/releases/tag/v1.14.4>`_',\n",
       " '- `PySAL 1.14.3 <https://github.com/pysal/pysal/releases/tag/v1.14.3>`_',\n",
       " '- `PySAL 1.14.2 <https://github.com/pysal/pysal/releases/tag/v1.14.2>`_',\n",
       " '- `PySAL 1.13.0 <https://github.com/pysal/pysal/releases/tag/v1.13.0>`_',\n",
       " '- `PySAL 1.12.0 <https://github.com/pysal/pysal/releases/tag/v1.12.0>`_',\n",
       " '- `PySAL 1.11.2 <https://github.com/pysal/pysal/releases/tag/v1.11.2>`_',\n",
       " '- `PySAL 1.11.1 <https://github.com/pysal/pysal/releases/tag/v1.11.1>`_',\n",
       " '- `PySAL 1.11.0 <https://github.com/pysal/pysal/releases/tag/v1.11.0>`_',\n",
       " '- `PySAL 1.10 <https://github.com/pysal/pysal/releases/tag/v1.10>`_']"
      ]
     },
     "execution_count": 30,
     "metadata": {},
     "output_type": "execute_result"
    }
   ],
   "source": [
    "lines"
   ]
  },
  {
   "cell_type": "code",
   "execution_count": 8,
   "id": "34fa54da-b56f-47cc-b083-2e27cc992e53",
   "metadata": {},
   "outputs": [
    {
     "data": {
      "text/plain": [
       "dict_keys(['url', 'assets_url', 'upload_url', 'html_url', 'id', 'author', 'node_id', 'tag_name', 'target_commitish', 'name', 'draft', 'prerelease', 'created_at', 'published_at', 'assets', 'tarball_url', 'zipball_url', 'body'])"
      ]
     },
     "execution_count": 8,
     "metadata": {},
     "output_type": "execute_result"
    }
   ],
   "source": [
    "release.keys()"
   ]
  },
  {
   "cell_type": "code",
   "execution_count": 10,
   "id": "23280698-2ef5-42de-aa52-f976114bd226",
   "metadata": {},
   "outputs": [
    {
     "data": {
      "text/plain": [
       "'2022-01-23T17:42:25Z'"
      ]
     },
     "execution_count": 10,
     "metadata": {},
     "output_type": "execute_result"
    }
   ],
   "source": [
    "release['published_at']"
   ]
  },
  {
   "cell_type": "code",
   "execution_count": 11,
   "id": "3f9038e9-065b-4fa4-b970-06d79b8b6329",
   "metadata": {},
   "outputs": [
    {
     "data": {
      "text/plain": [
       "'v2.6.0-rc2'"
      ]
     },
     "execution_count": 11,
     "metadata": {},
     "output_type": "execute_result"
    }
   ],
   "source": [
    "release['tag_name']"
   ]
  },
  {
   "cell_type": "code",
   "execution_count": 12,
   "id": "93225dbf-24c3-4108-ba46-a70c57c75e2c",
   "metadata": {},
   "outputs": [
    {
     "data": {
      "text/plain": [
       "'https://github.com/pysal/pysal/releases/tag/v2.6.0-rc2'"
      ]
     },
     "execution_count": 12,
     "metadata": {},
     "output_type": "execute_result"
    }
   ],
   "source": [
    "release['html_url']"
   ]
  },
  {
   "cell_type": "code",
   "execution_count": null,
   "id": "98400125-a1ba-49b7-b00f-f085601b1784",
   "metadata": {},
   "outputs": [],
   "source": []
  }
 ],
 "metadata": {
  "kernelspec": {
   "display_name": "Python 3",
   "language": "python",
   "name": "python3"
  },
  "language_info": {
   "codemirror_mode": {
    "name": "ipython",
    "version": 3
   },
   "file_extension": ".py",
   "mimetype": "text/x-python",
   "name": "python",
   "nbconvert_exporter": "python",
   "pygments_lexer": "ipython3",
   "version": "3.8.10"
  }
 },
 "nbformat": 4,
 "nbformat_minor": 5
}
